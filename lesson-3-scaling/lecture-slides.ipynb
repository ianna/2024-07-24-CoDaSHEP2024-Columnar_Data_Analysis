{
 "cells": [
  {
   "cell_type": "markdown",
   "id": "8b272c6c-1c52-4c71-bf33-00072b264b08",
   "metadata": {
    "editable": true,
    "slideshow": {
     "slide_type": ""
    },
    "tags": []
   },
   "source": [
    "# Lesson 4: Vertical and horizontal scaling"
   ]
  },
  {
   "cell_type": "markdown",
   "id": "0201753d-9878-4eda-8f06-cd01d39046ef",
   "metadata": {
    "editable": true,
    "slideshow": {
     "slide_type": "slide"
    },
    "tags": []
   },
   "source": [
    "This lesson is about making Python faster, in two dimensions:"
   ]
  },
  {
   "cell_type": "markdown",
   "id": "3f7a7519-5e33-4422-94fd-b43a1bf62b07",
   "metadata": {
    "editable": true,
    "slideshow": {
     "slide_type": ""
    },
    "tags": []
   },
   "source": [
    "<center>\n",
    "<img src=\"../img/horizontal-and-vertical-scaling.svg\" width=\"60%\">\n",
    "</center>"
   ]
  },
  {
   "cell_type": "markdown",
   "id": "797adfb6-b459-4473-a3fd-b9fc6ff2f8dd",
   "metadata": {
    "editable": true,
    "slideshow": {
     "slide_type": "slide"
    },
    "tags": []
   },
   "source": [
    "## Vertical scaling"
   ]
  },
  {
   "cell_type": "markdown",
   "id": "c71103f6-8557-4ac4-8ccd-bbecbebfab15",
   "metadata": {
    "editable": true,
    "slideshow": {
     "slide_type": "slide"
    },
    "tags": []
   },
   "source": [
    "Reminder: Python is slow."
   ]
  },
  {
   "cell_type": "markdown",
   "id": "6b0a16a0-2a19-4d55-ac94-3fa423a31803",
   "metadata": {
    "editable": true,
    "slideshow": {
     "slide_type": ""
    },
    "tags": []
   },
   "source": [
    "<center>\n",
    "<img src=\"../img/benchmark-games-2023.svg\" width=\"90%\">\n",
    "</center>"
   ]
  },
  {
   "cell_type": "markdown",
   "id": "cbbe3feb-af5f-4434-8fa9-a9b187d9c57a",
   "metadata": {
    "editable": true,
    "slideshow": {
     "slide_type": "slide"
    },
    "tags": []
   },
   "source": [
    "We have already seen that NumPy (and Awkward Array) can circumvent Python's slowness by doing computationally intensive work in compiled code."
   ]
  },
  {
   "cell_type": "code",
   "execution_count": null,
   "id": "3908f9d1-a7e9-4ab6-8ec1-923b3e63ed97",
   "metadata": {
    "editable": true,
    "slideshow": {
     "slide_type": ""
    },
    "tags": []
   },
   "outputs": [],
   "source": [
    "import numpy as np\n",
    "import awkward as ak\n",
    "\n",
    "events = ak.from_parquet(\"../data/SMHiggsToZZTo4L.parquet\")[:100000]"
   ]
  },
  {
   "cell_type": "markdown",
   "id": "e6e5db5a-e5a1-418e-9263-e2ae294fcd70",
   "metadata": {
    "editable": true,
    "slideshow": {
     "slide_type": ""
    },
    "tags": []
   },
   "source": [
    "<br>"
   ]
  },
  {
   "cell_type": "code",
   "execution_count": null,
   "id": "44f3da69-2206-44ac-aad5-2d4f6bf1032b",
   "metadata": {
    "editable": true,
    "slideshow": {
     "slide_type": ""
    },
    "tags": []
   },
   "outputs": [],
   "source": [
    "%%timeit -r1 -n1\n",
    "\n",
    "pz = [[muon.pt * np.sinh(muon.eta) for muon in event.muon] for event in events]"
   ]
  },
  {
   "cell_type": "markdown",
   "id": "f5ea991f-8251-4c18-834b-325aafc8229a",
   "metadata": {
    "editable": true,
    "slideshow": {
     "slide_type": ""
    },
    "tags": []
   },
   "source": [
    "<br>"
   ]
  },
  {
   "cell_type": "code",
   "execution_count": null,
   "id": "e9b2b6c6-8957-400a-8971-5cad9937e7c1",
   "metadata": {
    "editable": true,
    "slideshow": {
     "slide_type": ""
    },
    "tags": []
   },
   "outputs": [],
   "source": [
    "%%timeit -r1 -n1\n",
    "\n",
    "pz = events.muon.pt * np.sinh(events.muon.eta)"
   ]
  },
  {
   "cell_type": "markdown",
   "id": "5901d264-a1c0-49f0-ac1e-43a12a805c70",
   "metadata": {
    "editable": true,
    "slideshow": {
     "slide_type": "slide"
    },
    "tags": []
   },
   "source": [
    "Array-oriented programming connects Python with compiled code, but it's not the only way to do that."
   ]
  },
  {
   "cell_type": "markdown",
   "id": "283c2d25-a43d-4665-b39e-8ca8a7625fe2",
   "metadata": {
    "editable": true,
    "slideshow": {
     "slide_type": ""
    },
    "tags": []
   },
   "source": [
    "<img src=\"../img/history-of-bindings-2.svg\" width=\"100%\">"
   ]
  },
  {
   "cell_type": "markdown",
   "id": "5a51ef39-b1ea-4b98-a478-930b3a13ff1b",
   "metadata": {
    "editable": true,
    "slideshow": {
     "slide_type": "slide"
    },
    "tags": []
   },
   "source": [
    "Although much faster than pure Python, array-oriented techniques are not as fast as imperative, compiled code."
   ]
  },
  {
   "cell_type": "code",
   "execution_count": null,
   "id": "91e6a4f4-059c-436d-9ec4-b8b7478929f1",
   "metadata": {
    "editable": true,
    "slideshow": {
     "slide_type": ""
    },
    "tags": []
   },
   "outputs": [],
   "source": [
    "%%writefile quadratic_formula_c.c\n",
    "\n",
    "#include <math.h>\n",
    "\n",
    "void run(double* a, double* b, double* c, double* output) {\n",
    "    for (int i = 0;  i < 1000000;  i++) {\n",
    "        output[i] = (-b[i] + sqrt(b[i]*b[i] - 4*a[i]*c[i])) / (2*a[i]);\n",
    "    }\n",
    "}"
   ]
  },
  {
   "cell_type": "code",
   "execution_count": null,
   "id": "79f49e52-794f-45ef-b46b-4c689d2f3bf4",
   "metadata": {
    "editable": true,
    "slideshow": {
     "slide_type": ""
    },
    "tags": []
   },
   "outputs": [],
   "source": [
    "!cc quadratic_formula_c.c -shared -lm -o quadratic_formula_c.so"
   ]
  },
  {
   "cell_type": "markdown",
   "id": "900e3b3a-cd01-42de-a216-4de4f847db3e",
   "metadata": {
    "editable": true,
    "slideshow": {
     "slide_type": ""
    },
    "tags": []
   },
   "source": [
    "<br>"
   ]
  },
  {
   "cell_type": "code",
   "execution_count": null,
   "id": "a0d965c0-cb0d-4005-ba41-2f96813a8b71",
   "metadata": {
    "editable": true,
    "slideshow": {
     "slide_type": ""
    },
    "tags": []
   },
   "outputs": [],
   "source": [
    "import ctypes\n",
    "\n",
    "quadratic_formula_c = ctypes.CDLL(\"./quadratic_formula_c.so\")\n",
    "quadratic_formula_c.run.argtypes = (ctypes.POINTER(ctypes.c_double),) * 4\n",
    "quadratic_formula_c.run.restype = None"
   ]
  },
  {
   "cell_type": "code",
   "execution_count": null,
   "id": "5fb26358-17b6-4e2f-84ec-e29880e66274",
   "metadata": {
    "editable": true,
    "slideshow": {
     "slide_type": "slide"
    },
    "tags": []
   },
   "outputs": [],
   "source": [
    "a = np.random.uniform(5, 10, 1000000)\n",
    "b = np.random.uniform(10, 20, 1000000)\n",
    "c = np.random.uniform(-0.1, 0.1, 1000000)"
   ]
  },
  {
   "cell_type": "markdown",
   "id": "afe1cb74-8ecb-44e7-994e-e14333f0f185",
   "metadata": {
    "editable": true,
    "slideshow": {
     "slide_type": ""
    },
    "tags": []
   },
   "source": [
    "<br>"
   ]
  },
  {
   "cell_type": "code",
   "execution_count": null,
   "id": "4c86c2e0-bd45-4470-b695-22bd04ffaf49",
   "metadata": {
    "editable": true,
    "slideshow": {
     "slide_type": ""
    },
    "tags": []
   },
   "outputs": [],
   "source": [
    "output = np.zeros(1000000, dtype=np.float64)\n",
    "quadratic_formula_c.run(*[arg.ctypes.data_as(ctypes.POINTER(ctypes.c_double)) for arg in (a, b, c, output)])\n",
    "output"
   ]
  },
  {
   "cell_type": "markdown",
   "id": "94af8b62-3635-4fc9-9ac1-5de3d963f17f",
   "metadata": {
    "editable": true,
    "slideshow": {
     "slide_type": ""
    },
    "tags": []
   },
   "source": [
    "<br>"
   ]
  },
  {
   "cell_type": "code",
   "execution_count": null,
   "id": "cedbf713-0719-4bbe-984d-35a1f5cae1ae",
   "metadata": {
    "editable": true,
    "slideshow": {
     "slide_type": "fragment"
    },
    "tags": []
   },
   "outputs": [],
   "source": [
    "%%timeit\n",
    "\n",
    "quadratic_formula_c.run(*[arg.ctypes.data_as(ctypes.POINTER(ctypes.c_double)) for arg in (a, b, c, output)])"
   ]
  },
  {
   "cell_type": "markdown",
   "id": "2a14ddfd-31d2-4edc-b8be-4b879eb87c68",
   "metadata": {
    "editable": true,
    "slideshow": {
     "slide_type": ""
    },
    "tags": []
   },
   "source": [
    "<br>"
   ]
  },
  {
   "cell_type": "code",
   "execution_count": null,
   "id": "067b0679-0d6d-407e-b1fc-b4fdc3a21266",
   "metadata": {
    "editable": true,
    "slideshow": {
     "slide_type": ""
    },
    "tags": []
   },
   "outputs": [],
   "source": [
    "%%timeit\n",
    "\n",
    "(-b + np.sqrt(b**2 - 4*a*c)) / (2*a)"
   ]
  },
  {
   "cell_type": "markdown",
   "id": "afcec6a7-e63e-43e5-8704-23b9fc1787c0",
   "metadata": {
    "editable": true,
    "slideshow": {
     "slide_type": "slide"
    },
    "tags": []
   },
   "source": [
    "Why? NumPy allocates a new array for each intermediate step.\n",
    "\n",
    "* Memory allocation is expensive (`malloc` has to search for unused memory).\n",
    "* Accessing different memory is expensive (the CPU can't re-use its cache, and acessing RAM is much slower than most mathematical operations).\n",
    "\n",
    "To calculate the first expression, NumPy takes the steps shown in the second:"
   ]
  },
  {
   "cell_type": "markdown",
   "id": "750ca339-91e5-473b-b1dc-eac305aeeaa1",
   "metadata": {
    "editable": true,
    "slideshow": {
     "slide_type": ""
    },
    "tags": []
   },
   "source": [
    "<br>"
   ]
  },
  {
   "cell_type": "code",
   "execution_count": null,
   "id": "58b921ba-f5f2-4415-879e-f4fe68fbb4cb",
   "metadata": {
    "editable": true,
    "slideshow": {
     "slide_type": ""
    },
    "tags": []
   },
   "outputs": [],
   "source": [
    "(-b + np.sqrt(b**2 - 4*a*c)) / (2*a)"
   ]
  },
  {
   "cell_type": "markdown",
   "id": "c96265f7-005b-4783-8a0c-dd8e5bcd8459",
   "metadata": {
    "editable": true,
    "slideshow": {
     "slide_type": ""
    },
    "tags": []
   },
   "source": [
    "<br>"
   ]
  },
  {
   "cell_type": "code",
   "execution_count": null,
   "id": "65f9d2a2-e776-4a4c-a915-9008b6703be0",
   "metadata": {
    "editable": true,
    "slideshow": {
     "slide_type": ""
    },
    "tags": []
   },
   "outputs": [],
   "source": [
    "tmp1 = np.negative(b)            # -b\n",
    "tmp2 = np.square(b)              # b**2\n",
    "tmp3 = np.multiply(4, a)         # 4*a\n",
    "tmp4 = np.multiply(tmp3, c)      # tmp3*c\n",
    "del tmp3\n",
    "tmp5 = np.subtract(tmp2, tmp4)   # tmp2 - tmp4\n",
    "del tmp2, tmp4\n",
    "tmp6 = np.sqrt(tmp5)             # sqrt(tmp5)\n",
    "del tmp5\n",
    "tmp7 = np.add(tmp1, tmp6)        # tmp1 + tmp6\n",
    "del tmp1, tmp6\n",
    "tmp8 = np.multiply(2, a)         # 2*a\n",
    "np.divide(tmp7, tmp8)            # tmp7 / tmp8     This is the result!"
   ]
  },
  {
   "cell_type": "markdown",
   "id": "30b67629-5c90-47e1-a5ba-426d3aaecd3e",
   "metadata": {
    "editable": true,
    "slideshow": {
     "slide_type": "slide"
    },
    "tags": []
   },
   "source": [
    "Best way to make C++ extensions for Python: pybind11"
   ]
  },
  {
   "cell_type": "code",
   "execution_count": null,
   "id": "4085fa67-f986-4056-894a-fa08b37779c6",
   "metadata": {
    "editable": true,
    "slideshow": {
     "slide_type": ""
    },
    "tags": []
   },
   "outputs": [],
   "source": [
    "%%writefile quadratic_formula_pybind11.cpp\n",
    "\n",
    "#include <pybind11/pybind11.h>\n",
    "#include <pybind11/numpy.h>\n",
    "namespace py = pybind11;\n",
    "\n",
    "void run(py::array_t<double, py::array::c_style | py::array::forcecast> a_numpy,\n",
    "         py::array_t<double, py::array::c_style | py::array::forcecast> b_numpy,\n",
    "         py::array_t<double, py::array::c_style | py::array::forcecast> c_numpy,\n",
    "         py::array_t<double> output_numpy) {\n",
    "    const double* a = a_numpy.data();\n",
    "    const double* b = b_numpy.data();\n",
    "    const double* c = c_numpy.data();\n",
    "    double* output = output_numpy.mutable_data();\n",
    "    for (int i = 0;  i < output_numpy.size();  i++) {\n",
    "        output[i] = (-b[i] + sqrt(b[i]*b[i] - 4*a[i]*c[i])) / (2*a[i]);\n",
    "    }\n",
    "}\n",
    "\n",
    "PYBIND11_MODULE(quadratic_formula_pybind11, m) {\n",
    "    m.def(\"run\", &run);\n",
    "}"
   ]
  },
  {
   "cell_type": "markdown",
   "id": "cce4073c-161d-4b6d-9836-15491658bfcc",
   "metadata": {
    "editable": true,
    "slideshow": {
     "slide_type": ""
    },
    "tags": []
   },
   "source": [
    "<br>"
   ]
  },
  {
   "cell_type": "code",
   "execution_count": null,
   "id": "264cd1d3-cc54-4413-8cb9-7f69c38d1b58",
   "metadata": {
    "editable": true,
    "slideshow": {
     "slide_type": ""
    },
    "tags": []
   },
   "outputs": [],
   "source": [
    "import os\n",
    "import sys\n",
    "from pybind11 import get_include\n",
    "\n",
    "inc = \"-I \" + get_include()\n",
    "plat = \"-undefined dynamic_lookup\" if \"darwin\" in sys.platform else \"-fPIC\"\n",
    "pyinc = !python3-config --cflags"
   ]
  },
  {
   "cell_type": "markdown",
   "id": "ab6cd69c-bf09-4456-9df5-40f0af85f20a",
   "metadata": {
    "editable": true,
    "slideshow": {
     "slide_type": ""
    },
    "tags": []
   },
   "source": [
    "<br>"
   ]
  },
  {
   "cell_type": "code",
   "execution_count": null,
   "id": "37c14e3a-ece8-4984-8b46-a5c8d22c1646",
   "metadata": {
    "editable": true,
    "slideshow": {
     "slide_type": ""
    },
    "tags": []
   },
   "outputs": [],
   "source": [
    "!c++ -std=c++11 quadratic_formula_pybind11.cpp -shared {inc} {pyinc.s} -o quadratic_formula_pybind11.so {plat}"
   ]
  },
  {
   "cell_type": "code",
   "execution_count": null,
   "id": "04918033-e6a0-4384-acbb-ebbb2e86a581",
   "metadata": {
    "editable": true,
    "slideshow": {
     "slide_type": "slide"
    },
    "tags": []
   },
   "outputs": [],
   "source": [
    "import quadratic_formula_pybind11"
   ]
  },
  {
   "cell_type": "markdown",
   "id": "2e091899-d726-4c1c-bb8a-622cf905814b",
   "metadata": {
    "editable": true,
    "slideshow": {
     "slide_type": ""
    },
    "tags": []
   },
   "source": [
    "<br>"
   ]
  },
  {
   "cell_type": "code",
   "execution_count": null,
   "id": "914a45ab-67db-4ef0-bb5a-20b3f04a80d6",
   "metadata": {
    "editable": true,
    "slideshow": {
     "slide_type": ""
    },
    "tags": []
   },
   "outputs": [],
   "source": [
    "output = np.zeros(1000000, dtype=np.float64)\n",
    "quadratic_formula_pybind11.run(a, b, c, output)\n",
    "output"
   ]
  },
  {
   "cell_type": "markdown",
   "id": "80890a28-540e-4230-a11f-32ad70955a8d",
   "metadata": {
    "editable": true,
    "slideshow": {
     "slide_type": ""
    },
    "tags": []
   },
   "source": [
    "<br>"
   ]
  },
  {
   "cell_type": "code",
   "execution_count": null,
   "id": "8f718827-d128-4272-b543-170ccf1cab88",
   "metadata": {
    "editable": true,
    "slideshow": {
     "slide_type": ""
    },
    "tags": []
   },
   "outputs": [],
   "source": [
    "%%timeit\n",
    "\n",
    "quadratic_formula_pybind11.run(a, b, c, output)"
   ]
  },
  {
   "cell_type": "markdown",
   "id": "a27eedee-9003-43b6-bf3a-3bf9aefef5a8",
   "metadata": {
    "editable": true,
    "slideshow": {
     "slide_type": ""
    },
    "tags": []
   },
   "source": [
    "<br>"
   ]
  },
  {
   "cell_type": "code",
   "execution_count": null,
   "id": "32b8910f-58fe-4364-8386-10245e7142c3",
   "metadata": {
    "editable": true,
    "slideshow": {
     "slide_type": ""
    },
    "tags": []
   },
   "outputs": [],
   "source": [
    "%%timeit\n",
    "\n",
    "(-b + np.sqrt(b**2 - 4*a*c)) / (2*a)"
   ]
  },
  {
   "cell_type": "markdown",
   "id": "e5a8ee6a-3aaa-4904-9a5b-43116d9654de",
   "metadata": {
    "editable": true,
    "slideshow": {
     "slide_type": "slide"
    },
    "tags": []
   },
   "source": [
    "Important! Put the loop over big data on the _compiled_ side of the boundary."
   ]
  },
  {
   "cell_type": "code",
   "execution_count": null,
   "id": "5ced6a6e-0c63-4d19-b80e-ec271fb9ea20",
   "metadata": {
    "editable": true,
    "slideshow": {
     "slide_type": ""
    },
    "tags": []
   },
   "outputs": [],
   "source": [
    "%%writefile quadratic_formula_pybind11_noloop.cpp\n",
    "\n",
    "#include <pybind11/pybind11.h>\n",
    "namespace py = pybind11;\n",
    "\n",
    "double run(double a, double b, double c) {\n",
    "    return (-b + sqrt(b*b - 4*a*c)) / (2*a);\n",
    "}\n",
    "PYBIND11_MODULE(quadratic_formula_pybind11_noloop, m) {\n",
    "    m.def(\"run\", &run);\n",
    "}"
   ]
  },
  {
   "cell_type": "code",
   "execution_count": null,
   "id": "e0f87a66-d3c5-45b5-9792-24b53da2b5fc",
   "metadata": {
    "editable": true,
    "slideshow": {
     "slide_type": ""
    },
    "tags": []
   },
   "outputs": [],
   "source": [
    "!c++ -std=c++11 quadratic_formula_pybind11_noloop.cpp -shared {inc} {pyinc.s} -o quadratic_formula_pybind11_noloop.so {plat}"
   ]
  },
  {
   "cell_type": "markdown",
   "id": "34186b9d-aef0-4233-b42f-8d35e35e9e9f",
   "metadata": {
    "editable": true,
    "slideshow": {
     "slide_type": ""
    },
    "tags": []
   },
   "source": [
    "<br>"
   ]
  },
  {
   "cell_type": "code",
   "execution_count": null,
   "id": "7a9f0c25-49a3-4e0b-a266-53650ea23ad3",
   "metadata": {
    "editable": true,
    "slideshow": {
     "slide_type": ""
    },
    "tags": []
   },
   "outputs": [],
   "source": [
    "import quadratic_formula_pybind11_noloop"
   ]
  },
  {
   "cell_type": "markdown",
   "id": "4531004e-49f2-4021-9ce4-6cae43706ed3",
   "metadata": {
    "editable": true,
    "slideshow": {
     "slide_type": ""
    },
    "tags": []
   },
   "source": [
    "<br>"
   ]
  },
  {
   "cell_type": "code",
   "execution_count": null,
   "id": "195838d4-957d-4fdb-85fb-f72182d37c97",
   "metadata": {
    "editable": true,
    "slideshow": {
     "slide_type": ""
    },
    "tags": []
   },
   "outputs": [],
   "source": [
    "%%timeit\n",
    "\n",
    "output = [quadratic_formula_pybind11_noloop.run(a_i, b_i, c_i) for a_i, b_i, c_i in zip(a, b, c)]"
   ]
  },
  {
   "cell_type": "markdown",
   "id": "4bf7ce2e-046f-45bb-8b2c-8d9c99a1573e",
   "metadata": {
    "editable": true,
    "slideshow": {
     "slide_type": "slide"
    },
    "tags": []
   },
   "source": [
    "Leaving Python, writing C++ code, and then importing it* is fine for a long-term project, like a library that will be used many times, but it's inconvenient in the middle of a data analysis."
   ]
  },
  {
   "cell_type": "markdown",
   "id": "aebfdf85-d1ab-4c7c-8f5a-022eb7a87deb",
   "metadata": {
    "editable": true,
    "slideshow": {
     "slide_type": ""
    },
    "tags": []
   },
   "source": [
    "<br>"
   ]
  },
  {
   "cell_type": "markdown",
   "id": "de872785-68be-471c-b89b-90c8430203a2",
   "metadata": {
    "editable": true,
    "slideshow": {
     "slide_type": "fragment"
    },
    "tags": []
   },
   "source": [
    "*If we change the C++, recompile, and do\n",
    "\n",
    "```python\n",
    "import quadratic_formula_pybind11\n",
    "```\n",
    "\n",
    "again, we will _not_ get the new version. We would still have the old version, with no error messages or warnings!"
   ]
  },
  {
   "cell_type": "markdown",
   "id": "80bf5e1a-0dc0-48ca-b285-74ad135187f0",
   "metadata": {
    "editable": true,
    "slideshow": {
     "slide_type": "slide"
    },
    "tags": []
   },
   "source": [
    "Numba is a Just In Time (JIT) compiler for _imperative_ Python."
   ]
  },
  {
   "cell_type": "code",
   "execution_count": null,
   "id": "1b6482cf-e2e1-4b8c-ac3f-5136dfb3b40e",
   "metadata": {
    "editable": true,
    "slideshow": {
     "slide_type": ""
    },
    "tags": []
   },
   "outputs": [],
   "source": [
    "import numba as nb"
   ]
  },
  {
   "cell_type": "markdown",
   "id": "03cb6e68-21e4-45a6-89ea-3de5e3661e7b",
   "metadata": {
    "editable": true,
    "slideshow": {
     "slide_type": ""
    },
    "tags": []
   },
   "source": [
    "<br>"
   ]
  },
  {
   "cell_type": "code",
   "execution_count": null,
   "id": "4573a72c-a4af-4e9a-848e-0018270ead6d",
   "metadata": {
    "editable": true,
    "slideshow": {
     "slide_type": ""
    },
    "tags": []
   },
   "outputs": [],
   "source": [
    "@nb.njit\n",
    "def quadratic_formula_numba(a, b, c):\n",
    "    output = np.empty(len(a), dtype=np.float64)\n",
    "    for i, (a_i, b_i, c_i) in enumerate(zip(a, b, c)):\n",
    "        output[i] = (-b_i + np.sqrt(b_i**2 - 4*a_i*c_i)) / (2*a_i)\n",
    "    return output\n",
    "\n",
    "quadratic_formula_numba(a, b, c)"
   ]
  },
  {
   "cell_type": "markdown",
   "id": "7c42ef27-ef49-4ebe-9fd5-0005bbbdba35",
   "metadata": {
    "editable": true,
    "slideshow": {
     "slide_type": ""
    },
    "tags": []
   },
   "source": [
    "<br>"
   ]
  },
  {
   "cell_type": "code",
   "execution_count": null,
   "id": "c5d2746b-08b1-497c-81ae-36f4a5037882",
   "metadata": {
    "editable": true,
    "slideshow": {
     "slide_type": "fragment"
    },
    "tags": []
   },
   "outputs": [],
   "source": [
    "%%timeit\n",
    "\n",
    "quadratic_formula_numba(a, b, c)"
   ]
  },
  {
   "cell_type": "markdown",
   "id": "5d3f326f-5cdf-4ca2-91be-2ae2600cccf0",
   "metadata": {
    "editable": true,
    "slideshow": {
     "slide_type": "slide"
    },
    "tags": []
   },
   "source": [
    "JAX is a JIT compiler for _array-oriented_ Python."
   ]
  },
  {
   "cell_type": "code",
   "execution_count": null,
   "id": "be255b05-d282-4da9-81e4-bf64e81a15d8",
   "metadata": {
    "editable": true,
    "slideshow": {
     "slide_type": ""
    },
    "tags": []
   },
   "outputs": [],
   "source": [
    "import jax\n",
    "jax.config.update(\"jax_platform_name\", \"cpu\")"
   ]
  },
  {
   "cell_type": "markdown",
   "id": "4b61189b-21d6-4163-af2c-0295f83f58ca",
   "metadata": {
    "editable": true,
    "slideshow": {
     "slide_type": ""
    },
    "tags": []
   },
   "source": [
    "<br>"
   ]
  },
  {
   "cell_type": "code",
   "execution_count": null,
   "id": "f7a9761e-b4d2-4001-afe2-8742cbd2e9b1",
   "metadata": {
    "editable": true,
    "slideshow": {
     "slide_type": ""
    },
    "tags": []
   },
   "outputs": [],
   "source": [
    "@jax.jit\n",
    "def quadratic_formula_jax(a, b, c):\n",
    "    return (-b + jax.numpy.sqrt(b**2 - 4*a*c)) / (2*a)\n",
    "\n",
    "quadratic_formula_jax(a, b, c)"
   ]
  },
  {
   "cell_type": "markdown",
   "id": "dca4eef3-81da-4b1a-aa6a-9e950887eee5",
   "metadata": {
    "editable": true,
    "slideshow": {
     "slide_type": ""
    },
    "tags": []
   },
   "source": [
    "<br>"
   ]
  },
  {
   "cell_type": "code",
   "execution_count": null,
   "id": "1b88a0a8-43fb-4d19-b33b-ef9ab5c0bbd3",
   "metadata": {
    "editable": true,
    "slideshow": {
     "slide_type": "fragment"
    },
    "tags": []
   },
   "outputs": [],
   "source": [
    "%%timeit\n",
    "\n",
    "quadratic_formula_jax(a, b, c)"
   ]
  },
  {
   "cell_type": "markdown",
   "id": "a151746a-a709-47a3-b7c6-6039342ec0eb",
   "metadata": {
    "editable": true,
    "slideshow": {
     "slide_type": ""
    },
    "tags": []
   },
   "source": [
    "<br>"
   ]
  },
  {
   "cell_type": "markdown",
   "id": "2d497175-04fa-44fa-83e6-4530a7552dca",
   "metadata": {
    "editable": true,
    "slideshow": {
     "slide_type": "fragment"
    },
    "tags": []
   },
   "source": [
    "Note: it's hard to get JAX to use only one thread or use the CPU when a GPU is available, so use caution when interpreting performance results."
   ]
  },
  {
   "cell_type": "markdown",
   "id": "04598a05-20ea-40d6-a155-ad7bcf006087",
   "metadata": {
    "editable": true,
    "slideshow": {
     "slide_type": "slide"
    },
    "tags": []
   },
   "source": [
    "<center>\n",
    "<img src=\"../img/slow-fast-imperative-vectorized.svg\" width=\"80%\">\n",
    "</center>"
   ]
  },
  {
   "cell_type": "markdown",
   "id": "48bb6da5-b346-4d62-8507-11525218ea59",
   "metadata": {
    "editable": true,
    "slideshow": {
     "slide_type": "slide"
    },
    "tags": []
   },
   "source": [
    "Imperative versus vectorized (array-oriented) coding style is independent of slow versus fast."
   ]
  },
  {
   "cell_type": "markdown",
   "id": "e31614d0-d333-44e0-ac12-9387bec50df4",
   "metadata": {
    "editable": true,
    "slideshow": {
     "slide_type": ""
    },
    "tags": []
   },
   "source": [
    "<br><br>"
   ]
  },
  {
   "cell_type": "markdown",
   "id": "7eb35ca9-951c-47c2-aff9-7c7ca2339290",
   "metadata": {
    "editable": true,
    "slideshow": {
     "slide_type": "fragment"
    },
    "tags": []
   },
   "source": [
    "Why would you want to pick one over the other?"
   ]
  },
  {
   "cell_type": "markdown",
   "id": "7041df2f-a325-44cd-9675-99e47fc8f453",
   "metadata": {
    "editable": true,
    "slideshow": {
     "slide_type": "fragment"
    },
    "tags": []
   },
   "source": [
    "* array-oriented style is simpler for certain types of problems, fits interactive data analysis cadence"
   ]
  },
  {
   "cell_type": "markdown",
   "id": "8b8a6627-0fc2-4303-b530-60c8cbfeac74",
   "metadata": {
    "editable": true,
    "slideshow": {
     "slide_type": "fragment"
    },
    "tags": []
   },
   "source": [
    "* array-oriented style is more complicated or even impossible for some problems"
   ]
  },
  {
   "cell_type": "markdown",
   "id": "ae8a1d00-a6a3-4186-8843-d7ca92e83826",
   "metadata": {
    "editable": true,
    "slideshow": {
     "slide_type": "slide"
    },
    "tags": []
   },
   "source": [
    "<img src=\"../img/numerical-recipes.jpg\" width=\"200px\" align=\"right\">\n",
    "\n",
    "Suppose you need to calculate some special functions (and can't use SciPy).\n",
    "\n",
    "<br>\n",
    "\n",
    "Consider the log of the Gamma function,\n",
    "\n",
    "$$\\log\\Gamma(z) \\hspace{0.5 cm} \\mbox{where} \\hspace{0.5 cm} \\Gamma(z) = \\int_0^\\infty t^{z - 1} e^{-t} \\, dt$$\n",
    "\n",
    "<br clear=\"right\">\n",
    "\n",
    "Page 214, converted from Pascal to Python:"
   ]
  },
  {
   "cell_type": "code",
   "execution_count": null,
   "id": "1015f01e-bb65-41a6-b84b-8d936ed1282c",
   "metadata": {
    "editable": true,
    "slideshow": {
     "slide_type": ""
    },
    "tags": []
   },
   "outputs": [],
   "source": [
    "def log_of_gamma(x):\n",
    "    tmp = x + 5.5\n",
    "    tmp -= (x + 0.5) * np.log(tmp)\n",
    "    series = 1.000000000190015\n",
    "    for i, coefficient in enumerate([\n",
    "        76.18009172947146, -86.50532032941677, 24.01409824083091,\n",
    "        -1.231739572450155, 0.1208650973866179e-2, -0.5395239384953e-5,\n",
    "    ]):\n",
    "        series += coefficient / (x + i + 1)\n",
    "    return -tmp + np.log(2.5066282746310005 * series / x)"
   ]
  },
  {
   "cell_type": "markdown",
   "id": "a2c0d4bc-429c-41ae-9441-62df2bfb41e7",
   "metadata": {
    "editable": true,
    "slideshow": {
     "slide_type": "slide"
    },
    "tags": []
   },
   "source": [
    "Every line is a [closed-form](https://en.wikipedia.org/wiki/Closed-form_expression) expression (the loop over six coefficients could be \"unrolled\" into six lines), so this is very easy to vectorize."
   ]
  },
  {
   "cell_type": "code",
   "execution_count": null,
   "id": "9ab3b96f-c42a-46c5-be51-44a5437a264b",
   "metadata": {
    "editable": true,
    "slideshow": {
     "slide_type": ""
    },
    "tags": []
   },
   "outputs": [],
   "source": [
    "log_of_gamma(0.1), log_of_gamma(1), log_of_gamma(5), log_of_gamma(10)"
   ]
  },
  {
   "cell_type": "markdown",
   "id": "7d1c45a1-e790-4fa5-b8cc-0640178d5582",
   "metadata": {
    "editable": true,
    "slideshow": {
     "slide_type": ""
    },
    "tags": []
   },
   "source": [
    "<br>"
   ]
  },
  {
   "cell_type": "code",
   "execution_count": null,
   "id": "28f4afdd-28bc-4959-8c49-b0631a830283",
   "metadata": {
    "editable": true,
    "slideshow": {
     "slide_type": ""
    },
    "tags": []
   },
   "outputs": [],
   "source": [
    "log_of_gamma(np.array([0.1, 1, 5, 10]))"
   ]
  },
  {
   "cell_type": "markdown",
   "id": "ae2b0103-7449-4769-81e9-3633cf5b2f18",
   "metadata": {
    "editable": true,
    "slideshow": {
     "slide_type": ""
    },
    "tags": []
   },
   "source": [
    "<br>"
   ]
  },
  {
   "cell_type": "code",
   "execution_count": null,
   "id": "ba776a59-fa43-4b1c-a0f5-21901aeb9958",
   "metadata": {
    "editable": true,
    "slideshow": {
     "slide_type": "fragment"
    },
    "tags": []
   },
   "outputs": [],
   "source": [
    "import matplotlib.pyplot as plt\n",
    "import scipy.special\n",
    "\n",
    "x = 10**np.linspace(-3, 1, 100)\n",
    "plt.plot(x, log_of_gamma(x));\n",
    "plt.scatter(x, scipy.special.loggamma(x), color=\"darkorange\");"
   ]
  },
  {
   "cell_type": "markdown",
   "id": "5d2702f3-40f4-4294-9e81-f93051b2cb21",
   "metadata": {
    "editable": true,
    "slideshow": {
     "slide_type": "slide"
    },
    "tags": []
   },
   "source": [
    "Now suppose that you want to compute the incomplete gamma $P(a, x)$.\n",
    "\n",
    "$$P(a, x) = \\frac{1}{\\Gamma(a)} \\int_0^x t^{a - 1} e^{-t} \\, dt \\hspace{0.5 cm} \\mbox{where} \\hspace{0.5 cm} a > 0$$\n",
    "\n",
    "Page 219, converted from Pascal to Python:"
   ]
  },
  {
   "cell_type": "code",
   "execution_count": null,
   "id": "79467868-58f7-435f-b2d5-0da3f72a5317",
   "metadata": {
    "editable": true,
    "slideshow": {
     "slide_type": ""
    },
    "tags": []
   },
   "outputs": [],
   "source": [
    "SMALL_NUMBER = 3e-7\n",
    "\n",
    "def incomplete_gamma_P(a, x):\n",
    "    gln = log_of_gamma(a)\n",
    "\n",
    "    delta = summation = 1.0 / a\n",
    "\n",
    "    for i in range(100):\n",
    "        delta *= x / (a + i + 1)\n",
    "        summation += delta\n",
    "        if np.absolute(delta) < np.absolute(summation) * SMALL_NUMBER:\n",
    "            return summation * np.exp(-x + a*np.log(x) - gln)\n",
    "\n",
    "    raise RuntimeError(\"did not converge\")"
   ]
  },
  {
   "cell_type": "markdown",
   "id": "87f8be71-5d12-4132-862a-280bdcbbe188",
   "metadata": {
    "editable": true,
    "slideshow": {
     "slide_type": "slide"
    },
    "tags": []
   },
   "source": [
    "Although this can be computed for scalar inputs,"
   ]
  },
  {
   "cell_type": "code",
   "execution_count": null,
   "id": "b04d02fa-3ce4-45d4-bdd4-a5886603f79c",
   "metadata": {
    "editable": true,
    "slideshow": {
     "slide_type": ""
    },
    "tags": []
   },
   "outputs": [],
   "source": [
    "plt.plot(x, [incomplete_gamma_P(0.5, x_i) for x_i in x]);\n",
    "plt.plot(x, [incomplete_gamma_P(2, x_i) for x_i in x]);\n",
    "plt.plot(x, [incomplete_gamma_P(10, x_i) for x_i in x]);\n",
    "plt.scatter(x, scipy.special.gammainc(0.5, x));\n",
    "plt.scatter(x, scipy.special.gammainc(2, x));\n",
    "plt.scatter(x, scipy.special.gammainc(10, x));"
   ]
  },
  {
   "cell_type": "markdown",
   "id": "b93088ee-0d37-4d79-af10-17ae80c405cd",
   "metadata": {
    "editable": true,
    "slideshow": {
     "slide_type": "slide"
    },
    "tags": []
   },
   "source": [
    "It doesn't \"just work\" for arrays:"
   ]
  },
  {
   "cell_type": "code",
   "execution_count": null,
   "id": "23ebf6cb-dc12-4cf4-bcfb-ed21578a0b0a",
   "metadata": {
    "editable": true,
    "slideshow": {
     "slide_type": ""
    },
    "tags": [
     "raises-exception"
    ]
   },
   "outputs": [],
   "source": [
    "incomplete_gamma_P(3.0, x)"
   ]
  },
  {
   "cell_type": "markdown",
   "id": "c74549e6-1694-4e3d-be38-2e85e64e40bd",
   "metadata": {
    "editable": true,
    "slideshow": {
     "slide_type": ""
    },
    "tags": []
   },
   "source": [
    "<br><br>"
   ]
  },
  {
   "cell_type": "markdown",
   "id": "73f45f08-5348-44f7-86f5-695690cfa8ce",
   "metadata": {
    "editable": true,
    "slideshow": {
     "slide_type": ""
    },
    "tags": []
   },
   "source": [
    "Python can't decide whether to enter the body of the `if` statement or not because the expression may be true for some elements of the array and false for others."
   ]
  },
  {
   "cell_type": "markdown",
   "id": "b09c2334-622e-4b91-b386-4acc30fe89a4",
   "metadata": {
    "editable": true,
    "slideshow": {
     "slide_type": "slide"
    },
    "tags": []
   },
   "source": [
    "**What should we do?**\n",
    "\n",
    "Have all values continue to iterate, even if some have already converged?"
   ]
  },
  {
   "cell_type": "code",
   "execution_count": null,
   "id": "e68f3cff-7416-4d8a-b25a-54712e70af20",
   "metadata": {
    "editable": true,
    "slideshow": {
     "slide_type": ""
    },
    "tags": []
   },
   "outputs": [],
   "source": [
    "def incomplete_gamma_P_numpy_keep_going(a, x):\n",
    "    gln = log_of_gamma(a)\n",
    "\n",
    "    delta = summation = 1.0 / a\n",
    "\n",
    "    for i in range(100):\n",
    "        delta *= x / (a + i + 1)\n",
    "        summation += delta\n",
    "\n",
    "    return summation * np.exp(-x + a*np.log(x) - gln)"
   ]
  },
  {
   "cell_type": "code",
   "execution_count": null,
   "id": "2d265081-80d9-4dec-9499-b084b9def967",
   "metadata": {
    "editable": true,
    "slideshow": {
     "slide_type": "slide"
    },
    "tags": []
   },
   "outputs": [],
   "source": [
    "plt.plot(x, incomplete_gamma_P_numpy_keep_going(0.5, x));\n",
    "plt.plot(x, incomplete_gamma_P_numpy_keep_going(2.0, x));\n",
    "plt.plot(x, incomplete_gamma_P_numpy_keep_going(10, x));"
   ]
  },
  {
   "cell_type": "markdown",
   "id": "bb05d9cb-d21b-4ecf-9d8c-0a8787c01b29",
   "metadata": {
    "editable": true,
    "slideshow": {
     "slide_type": "slide"
    },
    "tags": []
   },
   "source": [
    "**What should we do?**\n",
    "\n",
    "Keep track of which values have converged and don't compute those?"
   ]
  },
  {
   "cell_type": "code",
   "execution_count": null,
   "id": "0c5b6b0b-4c26-4891-a17c-0bb928a2c4ac",
   "metadata": {
    "editable": true,
    "slideshow": {
     "slide_type": ""
    },
    "tags": []
   },
   "outputs": [],
   "source": [
    "def incomplete_gamma_P_numpy_tricky_bookkeeping(a, x):\n",
    "    gln = log_of_gamma(a)\n",
    "\n",
    "    delta = np.full(x.shape, 1.0 / a)\n",
    "    summation = delta.copy()\n",
    "\n",
    "    not_converged = np.ones(x.shape, np.bool_)\n",
    "\n",
    "    for i in range(100):\n",
    "        delta[not_converged] *= x[not_converged] / (a + i + 1)\n",
    "        summation[not_converged] += delta[not_converged]\n",
    "        not_converged &= np.absolute(delta) >= np.absolute(summation) * SMALL_NUMBER\n",
    "\n",
    "    return summation * np.exp(-x + a*np.log(x) - gln)"
   ]
  },
  {
   "cell_type": "code",
   "execution_count": null,
   "id": "1964b480-15ea-4961-85e3-1d35a6bca4a5",
   "metadata": {
    "editable": true,
    "slideshow": {
     "slide_type": "slide"
    },
    "tags": []
   },
   "outputs": [],
   "source": [
    "plt.plot(x, incomplete_gamma_P_numpy_tricky_bookkeeping(0.5, x));\n",
    "plt.plot(x, incomplete_gamma_P_numpy_tricky_bookkeeping(2.0, x));\n",
    "plt.plot(x, incomplete_gamma_P_numpy_tricky_bookkeeping(10, x));"
   ]
  },
  {
   "cell_type": "markdown",
   "id": "1eb6c203-0bab-4a82-9de3-19a7f545e28a",
   "metadata": {
    "editable": true,
    "slideshow": {
     "slide_type": "slide"
    },
    "tags": []
   },
   "source": [
    "**What should we do?**\n",
    "\n",
    "Just write some imperative code?"
   ]
  },
  {
   "cell_type": "code",
   "execution_count": null,
   "id": "c992ea5d-ca61-4967-b98a-af249a5664e0",
   "metadata": {
    "editable": true,
    "slideshow": {
     "slide_type": ""
    },
    "tags": []
   },
   "outputs": [],
   "source": [
    "log_of_gamma_numba = nb.njit(log_of_gamma)\n",
    "\n",
    "@nb.vectorize\n",
    "def incomplete_gamma_P_numba(a, x):\n",
    "    gln = log_of_gamma_numba(a)\n",
    "\n",
    "    delta = summation = 1.0 / a\n",
    "\n",
    "    for i in range(100):\n",
    "        delta *= x / (a + i + 1)\n",
    "        summation += delta\n",
    "        if np.absolute(delta) < np.absolute(summation) * SMALL_NUMBER:\n",
    "            return summation * np.exp(-x + a*np.log(x) - gln)\n",
    "\n",
    "    raise RuntimeError(\"did not converge\")\n",
    "\n",
    "incomplete_gamma_P_numba(3.0, np.array([0.001, 1, 2, 10]))"
   ]
  },
  {
   "cell_type": "code",
   "execution_count": null,
   "id": "96c3ae1e-1a04-47a5-8c4f-9f69e0cb894f",
   "metadata": {
    "editable": true,
    "slideshow": {
     "slide_type": "slide"
    },
    "tags": []
   },
   "outputs": [],
   "source": [
    "plt.plot(x, incomplete_gamma_P_numba(0.5, x));\n",
    "plt.plot(x, incomplete_gamma_P_numba(2, x));\n",
    "plt.plot(x, incomplete_gamma_P_numba(10, x));"
   ]
  },
  {
   "cell_type": "markdown",
   "id": "0837ebbb-0aaa-4c16-aafe-01fcc8a53ca9",
   "metadata": {
    "editable": true,
    "slideshow": {
     "slide_type": "slide"
    },
    "tags": []
   },
   "source": [
    "So... which one's faster?"
   ]
  },
  {
   "cell_type": "code",
   "execution_count": null,
   "id": "b2accd02-cb85-4e5f-8752-c86eb1ed0591",
   "metadata": {
    "editable": true,
    "slideshow": {
     "slide_type": ""
    },
    "tags": []
   },
   "outputs": [],
   "source": [
    "%%timeit\n",
    "\n",
    "incomplete_gamma_P_numpy_keep_going(3.0, x)"
   ]
  },
  {
   "cell_type": "markdown",
   "id": "f7a7d126-4d59-4051-a182-c10ac7b0b210",
   "metadata": {
    "editable": true,
    "slideshow": {
     "slide_type": ""
    },
    "tags": []
   },
   "source": [
    "<br>"
   ]
  },
  {
   "cell_type": "code",
   "execution_count": null,
   "id": "c6242312-42c2-401f-8d4c-4e50798cb8e8",
   "metadata": {
    "editable": true,
    "slideshow": {
     "slide_type": ""
    },
    "tags": []
   },
   "outputs": [],
   "source": [
    "%%timeit\n",
    "\n",
    "incomplete_gamma_P_numpy_tricky_bookkeeping(3.0, x)"
   ]
  },
  {
   "cell_type": "markdown",
   "id": "463a2742-2a92-425d-9c2b-31f56f6c3a54",
   "metadata": {
    "editable": true,
    "slideshow": {
     "slide_type": ""
    },
    "tags": []
   },
   "source": [
    "<br>"
   ]
  },
  {
   "cell_type": "code",
   "execution_count": null,
   "id": "b9f72253-5cea-49c1-b869-e20f3cf258dd",
   "metadata": {
    "editable": true,
    "slideshow": {
     "slide_type": ""
    },
    "tags": []
   },
   "outputs": [],
   "source": [
    "%%timeit\n",
    "\n",
    "incomplete_gamma_P_numba(3.0, x)"
   ]
  },
  {
   "cell_type": "markdown",
   "id": "3f6b838f-1978-49c1-bb59-893733537eee",
   "metadata": {
    "editable": true,
    "slideshow": {
     "slide_type": ""
    },
    "tags": []
   },
   "source": [
    "<br>"
   ]
  },
  {
   "cell_type": "markdown",
   "id": "b3a7b0e9-1126-4dc9-abc4-b23cb05aa006",
   "metadata": {
    "editable": true,
    "slideshow": {
     "slide_type": "fragment"
    },
    "tags": []
   },
   "source": [
    "Tricky bookkeeping usually isn't helpful—it's usually better to let array-oriented code do unnecessary calculations than try to keep track of which calcuations are necessary. But imperative code lets you do exactly what you want."
   ]
  },
  {
   "cell_type": "markdown",
   "id": "c7990fad-f050-4c34-860a-94ecd3e4fa19",
   "metadata": {
    "editable": true,
    "slideshow": {
     "slide_type": "slide"
    },
    "tags": []
   },
   "source": [
    "The exercises are on vertical scaling, so do one now, before I talk about horizontal scaling."
   ]
  },
  {
   "cell_type": "markdown",
   "id": "2cb9e81f-c6d7-47cb-86ca-5cc41b1569be",
   "metadata": {
    "editable": true,
    "slideshow": {
     "slide_type": "slide"
    },
    "tags": []
   },
   "source": [
    "## Horizontal scaling"
   ]
  },
  {
   "cell_type": "markdown",
   "id": "b09cfb84-713d-4ee9-b2bc-aee37be7b5d4",
   "metadata": {
    "editable": true,
    "slideshow": {
     "slide_type": "fragment"
    },
    "tags": []
   },
   "source": [
    "<center>\n",
    "<img src=\"../img/horizontal-and-vertical-scaling.svg\" width=\"60%\">\n",
    "</center>"
   ]
  },
  {
   "cell_type": "markdown",
   "id": "9601e5b9-7883-4ba6-be1e-d7ca2bca6149",
   "metadata": {
    "editable": true,
    "slideshow": {
     "slide_type": "slide"
    },
    "tags": []
   },
   "source": [
    "There are many ways to distribute a computation."
   ]
  },
  {
   "cell_type": "markdown",
   "id": "03791284-3a92-4adb-a73c-84f6384117d6",
   "metadata": {
    "editable": true,
    "slideshow": {
     "slide_type": ""
    },
    "tags": []
   },
   "source": [
    "<br>"
   ]
  },
  {
   "cell_type": "markdown",
   "id": "26bad849-8dfb-4981-a1b0-55b1b327b9d3",
   "metadata": {
    "editable": true,
    "slideshow": {
     "slide_type": "fragment"
    },
    "tags": []
   },
   "source": [
    "The traditional way is to use a batch queue, such as the LHC GRID. You can run Python scripts in a batch queue as easily as anything else."
   ]
  },
  {
   "cell_type": "markdown",
   "id": "01ca9196-401f-48d2-82d3-e5fd0b9bb044",
   "metadata": {
    "editable": true,
    "slideshow": {
     "slide_type": ""
    },
    "tags": []
   },
   "source": [
    "<br>"
   ]
  },
  {
   "cell_type": "markdown",
   "id": "7ad2aae4-6afe-44e7-9a22-1ecd0af15e1b",
   "metadata": {
    "editable": true,
    "slideshow": {
     "slide_type": "fragment"
    },
    "tags": []
   },
   "source": [
    "This lecture will be about Dask, a popular way to distribute computations _within_ Python."
   ]
  },
  {
   "cell_type": "markdown",
   "id": "8b39b24b-5800-4c36-ae3a-d9178649567d",
   "metadata": {
    "editable": true,
    "slideshow": {
     "slide_type": ""
    },
    "tags": []
   },
   "source": [
    "<center>\n",
    "<img src=\"../img/logo-dask.svg\" width=\"30%\">\n",
    "</center>"
   ]
  },
  {
   "cell_type": "markdown",
   "id": "2e2f5342-4876-4c74-ab37-6f286392f23e",
   "metadata": {
    "editable": true,
    "slideshow": {
     "slide_type": "slide"
    },
    "tags": []
   },
   "source": [
    "Dask is a library for describing a computation as a task graph."
   ]
  },
  {
   "cell_type": "code",
   "execution_count": null,
   "id": "60c39768-6eed-4577-94c5-965001f7fc3c",
   "metadata": {
    "editable": true,
    "slideshow": {
     "slide_type": ""
    },
    "tags": []
   },
   "outputs": [],
   "source": [
    "import dask"
   ]
  },
  {
   "cell_type": "markdown",
   "id": "b54b576c-436c-414a-b552-d5b00076357d",
   "metadata": {
    "editable": true,
    "slideshow": {
     "slide_type": ""
    },
    "tags": []
   },
   "source": [
    "<br>"
   ]
  },
  {
   "cell_type": "markdown",
   "id": "f4f9e581-463c-4d1e-9b4d-65c0a2183b4f",
   "metadata": {
    "editable": true,
    "slideshow": {
     "slide_type": "fragment"
    },
    "tags": []
   },
   "source": [
    "Eager Python code:"
   ]
  },
  {
   "cell_type": "code",
   "execution_count": null,
   "id": "0cd25700-1608-4152-ab58-cd6dca26aea0",
   "metadata": {
    "editable": true,
    "slideshow": {
     "slide_type": ""
    },
    "tags": []
   },
   "outputs": [],
   "source": [
    "def increment(i):\n",
    "    return i + 1\n",
    "\n",
    "def add(a, b):\n",
    "    return a + b\n",
    "\n",
    "a, b = 1, 12\n",
    "c = increment(a)\n",
    "d = increment(b)\n",
    "output = add(c, d)\n",
    "\n",
    "output"
   ]
  },
  {
   "cell_type": "markdown",
   "id": "00c399aa-6a20-4014-a53b-591e0f9d8f76",
   "metadata": {
    "editable": true,
    "slideshow": {
     "slide_type": ""
    },
    "tags": []
   },
   "source": [
    "<br>"
   ]
  },
  {
   "cell_type": "markdown",
   "id": "674c46e0-3b57-46c1-b660-5156f0be10b4",
   "metadata": {
    "editable": true,
    "slideshow": {
     "slide_type": "fragment"
    },
    "tags": []
   },
   "source": [
    "Lazy Python code:"
   ]
  },
  {
   "cell_type": "code",
   "execution_count": null,
   "id": "a44d4820-8db8-4939-a326-e8214860f047",
   "metadata": {
    "editable": true,
    "slideshow": {
     "slide_type": ""
    },
    "tags": []
   },
   "outputs": [],
   "source": [
    "@dask.delayed\n",
    "def increment(i):\n",
    "    return i + 1\n",
    "\n",
    "@dask.delayed\n",
    "def add(a, b):\n",
    "    return a + b\n",
    "\n",
    "a, b = 1, 12\n",
    "c = increment(a)\n",
    "d = increment(b)\n",
    "output = add(c, d)\n",
    "\n",
    "output"
   ]
  },
  {
   "cell_type": "code",
   "execution_count": null,
   "id": "8e48ddb4-deae-46bd-b479-78753cf99c30",
   "metadata": {
    "editable": true,
    "slideshow": {
     "slide_type": "slide"
    },
    "tags": []
   },
   "outputs": [],
   "source": [
    "output.compute()"
   ]
  },
  {
   "cell_type": "markdown",
   "id": "b6815d0d-a2aa-4837-ab76-3ca8c0299029",
   "metadata": {
    "editable": true,
    "slideshow": {
     "slide_type": ""
    },
    "tags": []
   },
   "source": [
    "<br>"
   ]
  },
  {
   "cell_type": "code",
   "execution_count": null,
   "id": "82ee526f-18cd-4dfa-ad6a-3862977f05dc",
   "metadata": {
    "editable": true,
    "slideshow": {
     "slide_type": "fragment"
    },
    "tags": []
   },
   "outputs": [],
   "source": [
    "output.visualize()"
   ]
  },
  {
   "cell_type": "code",
   "execution_count": null,
   "id": "d8882b83-d62d-41d6-8dd2-e35c2468222c",
   "metadata": {
    "editable": true,
    "slideshow": {
     "slide_type": "slide"
    },
    "tags": []
   },
   "outputs": [],
   "source": [
    "import numpy as np\n",
    "import dask.array as da\n",
    "\n",
    "a = da.random.uniform(5, 10, 1000000)\n",
    "b = da.random.uniform(10, 20, 1000000)\n",
    "c = da.random.uniform(-0.1, 0.1, 1000000)\n",
    "\n",
    "output = (-b + np.sqrt(b**2 - 4*a*c)) / (2*a)\n",
    "output"
   ]
  },
  {
   "cell_type": "markdown",
   "id": "675480b9-d530-4b1e-b144-e69044bd7a87",
   "metadata": {
    "editable": true,
    "slideshow": {
     "slide_type": ""
    },
    "tags": []
   },
   "source": [
    "<br>"
   ]
  },
  {
   "cell_type": "code",
   "execution_count": null,
   "id": "73681c81-12ba-4ec4-a68a-956b9cf9926d",
   "metadata": {
    "editable": true,
    "slideshow": {
     "slide_type": "fragment"
    },
    "tags": []
   },
   "outputs": [],
   "source": [
    "output.visualize()"
   ]
  },
  {
   "cell_type": "markdown",
   "id": "5877c712-99de-42e3-a0a9-47d1e31cff0b",
   "metadata": {
    "editable": true,
    "slideshow": {
     "slide_type": "slide"
    },
    "tags": []
   },
   "source": [
    "A task graph is a delayed computation—all the instructions that are needed to perform the computation at a later time."
   ]
  },
  {
   "cell_type": "markdown",
   "id": "0be7eb8f-3cb3-49f2-9b1c-85a840fbe079",
   "metadata": {
    "editable": true,
    "slideshow": {
     "slide_type": ""
    },
    "tags": []
   },
   "source": [
    "<br>"
   ]
  },
  {
   "cell_type": "markdown",
   "id": "98825a04-6dab-490a-9a6d-643ba5e8852a",
   "metadata": {
    "editable": true,
    "slideshow": {
     "slide_type": "fragment"
    },
    "tags": []
   },
   "source": [
    "This separates the problem of \"what to compute?\" from \"when/where/on what resources to compute it?\""
   ]
  },
  {
   "cell_type": "code",
   "execution_count": null,
   "id": "8723b4a9-56b3-4975-85eb-e3fa188925db",
   "metadata": {
    "editable": true,
    "slideshow": {
     "slide_type": "slide"
    },
    "tags": []
   },
   "outputs": [],
   "source": [
    "import time\n",
    "\n",
    "@dask.delayed\n",
    "def start():\n",
    "    print(\"start\")\n",
    "    time.sleep(0.5)\n",
    "    return 1\n",
    "\n",
    "@dask.delayed\n",
    "def concurrent(initial, i):\n",
    "    time.sleep(np.random.uniform(0, 1))\n",
    "    print(f\"concurrent {i}\", end=\"\")\n",
    "    time.sleep(np.random.uniform(0, 0.05))\n",
    "    print()\n",
    "    return initial + i**2\n",
    "\n",
    "@dask.delayed\n",
    "def combine(partial_results):\n",
    "    time.sleep(0.5)\n",
    "    print(\"combine\")\n",
    "    return sum(partial_results)\n",
    "\n",
    "initial = start()\n",
    "output = combine([concurrent(initial, i) for i in range(10)])"
   ]
  },
  {
   "cell_type": "code",
   "execution_count": null,
   "id": "98ecebaf-e33a-407b-994c-d19f222a7782",
   "metadata": {
    "editable": true,
    "slideshow": {
     "slide_type": "slide"
    },
    "tags": []
   },
   "outputs": [],
   "source": [
    "output.visualize()"
   ]
  },
  {
   "cell_type": "markdown",
   "id": "7c967af4-1bc2-4c28-8ab9-cb93bb9c4a17",
   "metadata": {
    "editable": true,
    "slideshow": {
     "slide_type": "slide"
    },
    "tags": []
   },
   "source": [
    "Dask has three built-in schedulers (rarely used in production):\n",
    "\n",
    "* `\"synchronous\"`: not parallel, intended for debugging\n",
    "* `\"threads\"`: multiple threads in the same process, limited by the [Python GIL](https://realpython.com/python-gil/)\n",
    "* `\"processes\"`: multiple Python processes; not affected by the GIL, but it has to start a bunch of processes"
   ]
  },
  {
   "cell_type": "markdown",
   "id": "afecbb28-60f9-4012-95aa-cd31d76dadf2",
   "metadata": {
    "editable": true,
    "slideshow": {
     "slide_type": ""
    },
    "tags": []
   },
   "source": [
    "<br>"
   ]
  },
  {
   "cell_type": "code",
   "execution_count": null,
   "id": "19814c21-82a4-45fb-b73e-59e0efaa0495",
   "metadata": {
    "editable": true,
    "slideshow": {
     "slide_type": ""
    },
    "tags": []
   },
   "outputs": [],
   "source": [
    "with dask.config.set(scheduler=\"synchronous\"):\n",
    "    output.compute()"
   ]
  },
  {
   "cell_type": "markdown",
   "id": "23b52d26-e02b-44f5-bb5f-6c220ef7ecff",
   "metadata": {
    "editable": true,
    "slideshow": {
     "slide_type": "slide"
    },
    "tags": []
   },
   "source": [
    "In a real system, we're more likely to use the Distributed library (or a third-party, such as Ray)."
   ]
  },
  {
   "cell_type": "markdown",
   "id": "04c975f5-32c9-4c06-a65d-5da8415e0a4e",
   "metadata": {
    "editable": true,
    "slideshow": {
     "slide_type": ""
    },
    "tags": []
   },
   "source": [
    "<img src=\"../img/distributed-overview.svg\" width=\"100%\">"
   ]
  },
  {
   "cell_type": "markdown",
   "id": "bc126a61-c355-4e30-808c-8c432896e1f6",
   "metadata": {
    "editable": true,
    "slideshow": {
     "slide_type": "slide"
    },
    "tags": []
   },
   "source": [
    "<br><br><br><br><br>\n",
    "\n",
    "_(Switch out of presentation view now.)_\n",
    "\n",
    "<br><br><br><br><br>"
   ]
  },
  {
   "cell_type": "markdown",
   "id": "248d4a82-14be-4e6d-93cf-2ed013a39aa5",
   "metadata": {
    "editable": true,
    "slideshow": {
     "slide_type": "slide"
    },
    "tags": []
   },
   "source": [
    "Run in separate terminals:\n",
    "\n",
    "```bash\n",
    "dask-scheduler\n",
    "```\n",
    "\n",
    "and several of the following:\n",
    "\n",
    "```bash\n",
    "dask-worker --nthreads 1 127.0.0.1:8786\n",
    "```"
   ]
  },
  {
   "cell_type": "code",
   "execution_count": null,
   "id": "bfda5932-f3a0-4faf-b00a-ce3b1e7e485a",
   "metadata": {
    "editable": true,
    "slideshow": {
     "slide_type": ""
    },
    "tags": []
   },
   "outputs": [],
   "source": [
    "import dask.distributed\n",
    "\n",
    "client = dask.distributed.Client(\"127.0.0.1:8786\")\n",
    "client"
   ]
  },
  {
   "cell_type": "code",
   "execution_count": null,
   "id": "cf44ebc8-b2ce-447f-8e52-2e41a03fe219",
   "metadata": {
    "editable": true,
    "slideshow": {
     "slide_type": ""
    },
    "tags": []
   },
   "outputs": [],
   "source": [
    "output.compute()"
   ]
  },
  {
   "cell_type": "markdown",
   "id": "e892f9f9-5f12-45db-bcab-032613a43d4d",
   "metadata": {},
   "source": [
    "<br><br><br><br><br>"
   ]
  },
  {
   "cell_type": "markdown",
   "id": "b9c3ccb0-2760-46d7-bbc6-305f6600a7d4",
   "metadata": {},
   "source": [
    "## Dask collections"
   ]
  },
  {
   "cell_type": "markdown",
   "id": "b71ecd81-a43e-4864-bdc0-225e5f874c0e",
   "metadata": {},
   "source": [
    "You can build general computations with `@dask.delayed`, but there are some common patterns that we'd want to build all the time.\n",
    "\n",
    "For instance, splitting a calculation on NumPy arrays into embarrassingly parallel parts:"
   ]
  },
  {
   "cell_type": "code",
   "execution_count": null,
   "id": "8b333384-56d8-46d1-bdfe-4170b927fbb4",
   "metadata": {},
   "outputs": [],
   "source": [
    "import os\n",
    "\n",
    "os.getcwd()"
   ]
  },
  {
   "cell_type": "code",
   "execution_count": null,
   "id": "0c835a1d-7fb7-4faf-a3c6-cbbf712d3b77",
   "metadata": {},
   "outputs": [],
   "source": [
    "import os\n",
    "import h5py\n",
    "\n",
    "dataset_hdf5 = h5py.File(os.getcwd() + \"/../data/SMHiggsToZZTo4L.h5\")\n",
    "\n",
    "pt1 = da.from_array(dataset_hdf5[\"ee_mumu\"][\"e1\"][\"pt\"], chunks=10000)\n",
    "phi1 = da.from_array(dataset_hdf5[\"ee_mumu\"][\"e1\"][\"phi\"], chunks=10000)\n",
    "eta1 = da.from_array(dataset_hdf5[\"ee_mumu\"][\"e1\"][\"eta\"], chunks=10000)\n",
    "pt2 = da.from_array(dataset_hdf5[\"ee_mumu\"][\"e2\"][\"pt\"], chunks=10000)\n",
    "phi2 = da.from_array(dataset_hdf5[\"ee_mumu\"][\"e2\"][\"phi\"], chunks=10000)\n",
    "eta2 = da.from_array(dataset_hdf5[\"ee_mumu\"][\"e2\"][\"eta\"], chunks=10000)\n",
    "\n",
    "pt1"
   ]
  },
  {
   "cell_type": "code",
   "execution_count": null,
   "id": "10f9fc1a-bcee-4145-ac8b-8f90d7682b22",
   "metadata": {},
   "outputs": [],
   "source": [
    "mass = np.sqrt(2*pt1*pt2*(np.cosh(eta1 - eta2) - np.cos(phi1 - phi2)))\n",
    "mass"
   ]
  },
  {
   "cell_type": "code",
   "execution_count": null,
   "id": "cc66f801-b095-4328-af50-9b898781769e",
   "metadata": {},
   "outputs": [],
   "source": [
    "mass.visualize()"
   ]
  },
  {
   "cell_type": "code",
   "execution_count": null,
   "id": "1afc665d-2ed9-4065-808b-8b48f42117b0",
   "metadata": {},
   "outputs": [],
   "source": [
    "from hist import Hist\n",
    "\n",
    "Hist.new.Reg(120, 0, 120, name=\"dimuon mass\").Double().fill(\n",
    "    mass.compute()\n",
    ").plot();"
   ]
  },
  {
   "cell_type": "markdown",
   "id": "e2a9961f-a5e7-4811-9e37-0119c73a26eb",
   "metadata": {},
   "source": [
    "<br><br><br><br><br>"
   ]
  },
  {
   "cell_type": "markdown",
   "id": "8c7ea2ec-a707-4b6a-9d48-a1cd4f6235f2",
   "metadata": {},
   "source": [
    "<img src=\"../img/dask-overview.svg\" width=\"100%\">"
   ]
  },
  {
   "cell_type": "markdown",
   "id": "cb704b9c-c33e-4bbd-b2b0-1c9930cf6b91",
   "metadata": {},
   "source": [
    "<br><br><br><br><br>"
   ]
  },
  {
   "cell_type": "markdown",
   "id": "36c5718c-8971-494e-a38a-f3ec95d70ded",
   "metadata": {},
   "source": [
    "## The (new) dask-awkward collection"
   ]
  },
  {
   "cell_type": "code",
   "execution_count": null,
   "id": "cdd747f3-1044-4a6a-8743-b10dc052f04f",
   "metadata": {},
   "outputs": [],
   "source": [
    "import uproot\n",
    "import awkward as ak\n",
    "\n",
    "events = uproot.dask(os.getcwd() + \"/../data/SMHiggsToZZTo4L.root\")\n",
    "\n",
    "# events = uproot.dask(\n",
    "#     \"https://pivarski-princeton.s3.amazonaws.com/cms-open-dimuons/Run2012B_DoubleMuParked.root\",\n",
    "#     step_size=1000,\n",
    "# )\n",
    "\n",
    "events"
   ]
  },
  {
   "cell_type": "code",
   "execution_count": null,
   "id": "46e7b822-9b1e-4896-a86a-bf0e9c9b12b1",
   "metadata": {},
   "outputs": [],
   "source": [
    "selected = events[ak.num(events.Electron_pt) == 2]\n",
    "selected"
   ]
  },
  {
   "cell_type": "code",
   "execution_count": null,
   "id": "69fc7eef-ece5-4376-952d-7885fb8d29a5",
   "metadata": {},
   "outputs": [],
   "source": [
    "pt1 = selected.Electron_pt[:, 0]\n",
    "phi1 = selected.Electron_phi[:, 0]\n",
    "eta1 = selected.Electron_eta[:, 0]\n",
    "pt2 = selected.Electron_pt[:, 1]\n",
    "phi2 = selected.Electron_phi[:, 1]\n",
    "eta2 = selected.Electron_eta[:, 1]\n",
    "\n",
    "pt1"
   ]
  },
  {
   "cell_type": "code",
   "execution_count": null,
   "id": "d431f9ea-9d51-4ff6-be54-af97ce0a70b4",
   "metadata": {},
   "outputs": [],
   "source": [
    "mass = np.sqrt(2*pt1*pt2*(np.cosh(eta1 - eta2) - np.cos(phi1 - phi2)))\n",
    "mass"
   ]
  },
  {
   "cell_type": "code",
   "execution_count": null,
   "id": "a8e7a523-e484-4f81-8397-2aec3e21195a",
   "metadata": {},
   "outputs": [],
   "source": [
    "mass.visualize()"
   ]
  },
  {
   "cell_type": "code",
   "execution_count": null,
   "id": "40884fde-6c78-484e-8a1c-d929ab0461d4",
   "metadata": {},
   "outputs": [],
   "source": [
    "Hist.new.Reg(120, 0, 120, name=\"dimuon mass\").Double().fill(\n",
    "    mass.compute()\n",
    ").plot();"
   ]
  }
 ],
 "metadata": {
  "kernelspec": {
   "display_name": "Python 3 (ipykernel)",
   "language": "python",
   "name": "python3"
  },
  "language_info": {
   "codemirror_mode": {
    "name": "ipython",
    "version": 3
   },
   "file_extension": ".py",
   "mimetype": "text/x-python",
   "name": "python",
   "nbconvert_exporter": "python",
   "pygments_lexer": "ipython3",
   "version": "3.10.14"
  }
 },
 "nbformat": 4,
 "nbformat_minor": 5
}
