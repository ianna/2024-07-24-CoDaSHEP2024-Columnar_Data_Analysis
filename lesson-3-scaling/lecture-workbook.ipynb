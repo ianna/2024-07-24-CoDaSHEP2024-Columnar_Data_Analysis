{
 "cells": [
  {
   "cell_type": "markdown",
   "id": "ac05a68d-f934-4924-a4b6-8c01c763dfc2",
   "metadata": {
    "editable": true,
    "slideshow": {
     "slide_type": ""
    },
    "tags": []
   },
   "source": [
    "# Lesson 4: Vertical and horizontal scaling (workbook)"
   ]
  },
  {
   "cell_type": "markdown",
   "id": "627aa0c8-7bd2-4e3f-9f84-1bfb15d45177",
   "metadata": {
    "editable": true,
    "slideshow": {
     "slide_type": ""
    },
    "tags": []
   },
   "source": [
    "There are no interactive questions in this session, so there's nothing to run in this notebook."
   ]
  }
 ],
 "metadata": {
  "kernelspec": {
   "display_name": "Python 3 (ipykernel)",
   "language": "python",
   "name": "python3"
  },
  "language_info": {
   "codemirror_mode": {
    "name": "ipython",
    "version": 3
   },
   "file_extension": ".py",
   "mimetype": "text/x-python",
   "name": "python",
   "nbconvert_exporter": "python",
   "pygments_lexer": "ipython3",
   "version": "3.10.14"
  }
 },
 "nbformat": 4,
 "nbformat_minor": 5
}
