{
 "cells": [
  {
   "cell_type": "markdown",
   "id": "33c0108d-0df8-4c29-8ff5-28789826b78a",
   "metadata": {
    "editable": true,
    "slideshow": {
     "slide_type": ""
    },
    "tags": []
   },
   "source": [
    "# Lesson 4 project 2: JIT-compiled Higgs combinatorics"
   ]
  },
  {
   "cell_type": "code",
   "execution_count": null,
   "id": "c89287b2-3669-4b54-9e48-3068135f920b",
   "metadata": {
    "editable": true,
    "slideshow": {
     "slide_type": ""
    },
    "tags": []
   },
   "outputs": [],
   "source": [
    "import matplotlib.pyplot as plt\n",
    "import numpy as np\n",
    "import numba as nb\n",
    "\n",
    "import awkward as ak\n",
    "import vector\n",
    "from hist import Hist\n",
    "vector.register_awkward()"
   ]
  },
  {
   "cell_type": "code",
   "execution_count": null,
   "id": "a355f04a-2757-452f-aa65-d4c39f903697",
   "metadata": {
    "editable": true,
    "slideshow": {
     "slide_type": ""
    },
    "tags": []
   },
   "outputs": [],
   "source": [
    "events = ak.from_parquet(\"../data/SMHiggsToZZTo4L.parquet\")"
   ]
  },
  {
   "cell_type": "markdown",
   "id": "60c26c30-904d-46d5-b7f9-f38b465a5b7c",
   "metadata": {
    "editable": true,
    "slideshow": {
     "slide_type": ""
    },
    "tags": []
   },
   "source": [
    "<br><br><br>"
   ]
  },
  {
   "cell_type": "markdown",
   "id": "13e6aae6-e053-4240-b07c-8a80d493ff1d",
   "metadata": {},
   "source": [
    "This exercise repeats [lesson-3-awkward/project-2-higgs.ipynb](../lesson-3-awkward/project-2-higgs.ipynb), but instead of allocating arrays of combinations, we only iterate over the combinations with Numba. In situations with many combinations, you might not have enough memory to allocate them as arrays.\n",
    "\n",
    "As a reminder, the task was to reconstruct $H \\to ZZ \\to e^+e^-e^+e^-$ without allowing any one electron to be the decay product of both Z bosons.\n",
    "\n",
    "We'll start with the collections separated by charge, as before."
   ]
  },
  {
   "cell_type": "code",
   "execution_count": null,
   "id": "1cdb96fd-7a7d-4180-8762-0d827085f8f7",
   "metadata": {},
   "outputs": [],
   "source": [
    "eplus = events.electron[events.electron.charge > 0]\n",
    "eminus = events.electron[events.electron.charge < 0]"
   ]
  },
  {
   "cell_type": "markdown",
   "id": "94da4793-359a-422a-9fd6-23307fe1d55e",
   "metadata": {
    "editable": true,
    "slideshow": {
     "slide_type": ""
    },
    "tags": []
   },
   "source": [
    "<br><br><br>"
   ]
  },
  {
   "cell_type": "markdown",
   "id": "82fc3e2e-99b0-4159-b532-191406f7f553",
   "metadata": {},
   "source": [
    "When writing a function for Numba, we're likely to encounter more verbose errors than we would get from a normal Python function. This is because Numba has to analyze the function and determine all the possible ways that it could run, whereas Python charges ahead and discovers type errors at runtime.\n",
    "\n",
    "Because Numba's errors can be confusing, it's usually easier to develop the function in pure Python with a small dataset or a single event, and then compile and apply it to the full dataset.\n",
    "\n",
    "Since we want to test electron combinatorics, let's pick a collision event with more than the two we'd need in each charge collection to form a Higgs."
   ]
  },
  {
   "cell_type": "code",
   "execution_count": null,
   "id": "2b3fef5b-14d9-4ae5-b171-b2b75b18b4c4",
   "metadata": {},
   "outputs": [],
   "source": [
    "np.nonzero((ak.num(eplus) == 3) & (ak.num(eminus) == 3))"
   ]
  },
  {
   "cell_type": "markdown",
   "id": "c338e294-e68a-4eb6-b039-0a5879c20606",
   "metadata": {},
   "source": [
    "There are a few of these, but let's take the first one, at index 448."
   ]
  },
  {
   "cell_type": "code",
   "execution_count": null,
   "id": "18cf04ee-aa3c-44ef-aa95-b03a350af0a7",
   "metadata": {},
   "outputs": [],
   "source": [
    "eplus_event = eplus[448]\n",
    "eminus_event = eminus[448]"
   ]
  },
  {
   "cell_type": "code",
   "execution_count": null,
   "id": "76900d7c-ffdb-4d73-94bf-ead627ac6775",
   "metadata": {},
   "outputs": [],
   "source": [
    "eplus_event.show()"
   ]
  },
  {
   "cell_type": "code",
   "execution_count": null,
   "id": "ece795fb-b7b4-4eaa-a1fa-35079094b068",
   "metadata": {},
   "outputs": [],
   "source": [
    "eminus_event.show()"
   ]
  },
  {
   "cell_type": "markdown",
   "id": "11e33a81-f14c-4c25-9f8b-966f09a468f3",
   "metadata": {
    "editable": true,
    "slideshow": {
     "slide_type": ""
    },
    "tags": []
   },
   "source": [
    "<br><br><br>"
   ]
  },
  {
   "cell_type": "markdown",
   "id": "8692a1c3-934e-4793-9977-6291f0ff3bb1",
   "metadata": {},
   "source": [
    "## Exercise 1"
   ]
  },
  {
   "cell_type": "markdown",
   "id": "c3f6ed28-b734-4779-9b90-2847fa527f91",
   "metadata": {},
   "source": [
    "Fill in the `...` in each range over the indexes of `eplus_event` and `eminus_event` such that\n",
    "\n",
    "* `Z2_i` never overlaps with `Z1_i`: the $e^+$ is given to only one Z boson\n",
    "* `Z2_j` never overlaps with `Z1_j`: the $e^-$ is given to only one Z boson\n",
    "\n",
    "You should reproduce the table below."
   ]
  },
  {
   "cell_type": "code",
   "execution_count": null,
   "id": "0ce8b37f-9040-4d32-9c9e-503f0738f8b0",
   "metadata": {},
   "outputs": [],
   "source": [
    "print( \"e+ index  | e- index \")\n",
    "print(f\"Z1_i Z2_i | Z1_j Z2_j\")\n",
    "print( \"----------+----------\")\n",
    "for Z1_i in range(...):\n",
    "    for Z2_i in range(...):\n",
    "        for Z1_j in range(...):\n",
    "            for Z2_j in range(...):\n",
    "                print(f\"{Z1_i:4d} {Z2_i:4d} | {Z1_j:4d} {Z2_j:4d}\")\n",
    "        print( \"----------+----------\")"
   ]
  },
  {
   "cell_type": "markdown",
   "id": "4292151d-102c-41fb-9464-49e12d97bb2f",
   "metadata": {},
   "source": [
    "```\n",
    "e+ index  | e- index \n",
    "Z1_i Z2_i | Z1_j Z2_j\n",
    "----------+----------\n",
    "   0    1 |    0    1\n",
    "   0    1 |    0    2\n",
    "   0    1 |    1    2\n",
    "----------+----------\n",
    "   0    2 |    0    1\n",
    "   0    2 |    0    2\n",
    "   0    2 |    1    2\n",
    "----------+----------\n",
    "   1    2 |    0    1\n",
    "   1    2 |    0    2\n",
    "   1    2 |    1    2\n",
    "----------+----------\n",
    "```"
   ]
  },
  {
   "cell_type": "markdown",
   "id": "7720af3e-02e4-4f8f-a8ea-5617b0c649b9",
   "metadata": {
    "editable": true,
    "slideshow": {
     "slide_type": ""
    },
    "tags": []
   },
   "source": [
    "<br><br><br>"
   ]
  },
  {
   "cell_type": "markdown",
   "id": "849355e8-5963-450d-9494-7d7961631ba7",
   "metadata": {},
   "source": [
    "## Exercise 2"
   ]
  },
  {
   "cell_type": "markdown",
   "id": "7e0760ca-4495-4af9-9ec7-df227b4b8e59",
   "metadata": {},
   "source": [
    "Using the same index ranges, set `Zsmall` and `Zbig` to the Z boson (`Z1` or `Z2`) with the lowest and highest mass, respectively."
   ]
  },
  {
   "cell_type": "code",
   "execution_count": null,
   "id": "99d3e926-bee7-4adf-8dd2-171b314b7084",
   "metadata": {},
   "outputs": [],
   "source": [
    "print( \" Zsmall  |  Zbig   \")\n",
    "print( \"---------+---------\")\n",
    "for Z1_i in range(...):\n",
    "    for Z2_i in range(...):\n",
    "        for Z1_j in range(...):\n",
    "            for Z2_j in range(...):\n",
    "                Z1 = eplus_event[Z1_i] + eminus_event[Z1_j]\n",
    "                Z2 = eplus_event[Z2_i] + eminus_event[Z2_j]\n",
    "                Zsmall, Zbig = ...\n",
    "                print(f\"{Zsmall.mass:.5f} | {Zbig.mass:.5f}\")\n",
    "        print( \"---------+---------\")"
   ]
  },
  {
   "cell_type": "markdown",
   "id": "e9394bbf-fac6-4fef-9b38-fbc6f62bc233",
   "metadata": {},
   "source": [
    "```\n",
    " Zsmall  |  Zbig   \n",
    "---------+---------\n",
    "51.54425 | 88.57392\n",
    "51.54425 | 52.81760\n",
    "42.52653 | 52.81760\n",
    "---------+---------\n",
    "51.54425 | 56.26014\n",
    "51.54425 | 52.19812\n",
    "42.52653 | 52.19812\n",
    "---------+---------\n",
    "56.26014 | 66.23705\n",
    "52.19812 | 66.23705\n",
    "52.19812 | 88.57392\n",
    "---------+---------\n",
    "```"
   ]
  },
  {
   "cell_type": "markdown",
   "id": "2d544270-ef3b-428a-b781-3f512d8ff929",
   "metadata": {
    "editable": true,
    "slideshow": {
     "slide_type": ""
    },
    "tags": []
   },
   "source": [
    "<br><br><br>"
   ]
  },
  {
   "cell_type": "markdown",
   "id": "a3e57ca3-97b1-4465-a65f-a590dc8694ab",
   "metadata": {},
   "source": [
    "## Exercise 3"
   ]
  },
  {
   "cell_type": "markdown",
   "id": "a2a7ef03-eca0-45ec-a305-2d6aecdee36c",
   "metadata": {},
   "source": [
    "Using the same index ranges and `Zsmall`/`Zbig`, select the best Higgs interpretation for this event, the one for which\n",
    "\n",
    "* `Zbig` is as close as possible to the on-shell Z mass.\n",
    "\n",
    "Note that `best_Zbig` can be `None`. This is exactly the sort of issue (type error) you encounter interactively in Python but would get a confusing compilation error message if it fails in Numba."
   ]
  },
  {
   "cell_type": "code",
   "execution_count": null,
   "id": "d4145b23-94e7-464c-9fff-74bac61d0d04",
   "metadata": {
    "editable": true,
    "slideshow": {
     "slide_type": ""
    },
    "tags": []
   },
   "outputs": [],
   "source": [
    "from particle import Particle\n",
    "from hepunits import GeV\n",
    "\n",
    "onshell_mass = Particle.from_name(\"Z0\").mass / GeV"
   ]
  },
  {
   "cell_type": "code",
   "execution_count": null,
   "id": "51c29c76-4490-4a6d-b441-d04ba5859a2a",
   "metadata": {},
   "outputs": [],
   "source": [
    "def best_interpretation(eplus_event, eminus_event):\n",
    "    best_Zsmall, best_Zbig = None, None\n",
    "    for Z1_i in range(...):\n",
    "        for Z2_i in range(...):\n",
    "            for Z1_j in range(...):\n",
    "                for Z2_j in range(...):\n",
    "                    Z1 = eplus_event[Z1_i] + eminus_event[Z1_j]\n",
    "                    Z2 = eplus_event[Z2_i] + eminus_event[Z2_j]\n",
    "                    Zsmall, Zbig = ...\n",
    "                    if ...:\n",
    "                        best_Zsmall, best_Zbig = Zsmall, Zbig\n",
    "    return best_Zsmall, best_Zbig\n",
    "\n",
    "best_interpretation(eplus_event, eminus_event)"
   ]
  },
  {
   "cell_type": "markdown",
   "id": "62e29b61-df1a-4d81-b19a-2597d45eaffc",
   "metadata": {},
   "source": [
    "Now put a `@nb.njit` decorator above `def best_interpretation` to see if it compiles and runs, producing the same result."
   ]
  },
  {
   "cell_type": "markdown",
   "id": "cc5f76ac-8c02-4709-98c7-711c808e310a",
   "metadata": {
    "editable": true,
    "slideshow": {
     "slide_type": ""
    },
    "tags": []
   },
   "source": [
    "<br><br><br>"
   ]
  },
  {
   "cell_type": "markdown",
   "id": "0cbdf692-ba3d-4cdf-8bdb-0949839c9e70",
   "metadata": {},
   "source": [
    "## Exercise 4"
   ]
  },
  {
   "cell_type": "markdown",
   "id": "d436f655-decf-445e-914d-1d323ce27b5b",
   "metadata": {},
   "source": [
    "Put it all together by preparing output arrays and writing a `for` loop over all events.\n",
    "\n",
    "First try this in pure Python with a small subset of events: `eplus[:100]` and `eminus[:100]`. Also evaluate the cells that make the plots.\n",
    "\n",
    "Then put a `@nb.njit` decorator above `def best_interpretation_per_event` to see if it compiles and runs. You can also let it run for all events in `eplus` and `eminus` to see full statistics in the plots.\n",
    "\n",
    "(Note that you can call a compiled function from a pure Python function, but you can't call a pure Python function from a compiled function.)"
   ]
  },
  {
   "cell_type": "code",
   "execution_count": null,
   "id": "90f2aa0b-0a7d-4c7f-8da4-f67b49335d4c",
   "metadata": {},
   "outputs": [],
   "source": [
    "def best_interpretation_per_event(eplus, eminus):\n",
    "    zmass_small = np.empty(len(eplus), dtype=np.float64)\n",
    "    zmass_big = np.empty(len(eplus), dtype=np.float64)\n",
    "    higgsmass = np.empty(len(eplus), dtype=np.float64)\n",
    "    for i, (eplus_event, eminus_event) in enumerate(zip(eplus, eminus)):\n",
    "        best_Zsmall, best_Zbig = best_interpretation(eplus_event, eminus_event)\n",
    "        if best_Zsmall is not None and best_Zbig is not None:\n",
    "            zmass_small[i] = best_Zsmall.mass\n",
    "            zmass_big[i] = best_Zbig.mass\n",
    "            if 12 < best_Zsmall.mass < 120 and 40 < best_Zbig.mass < 120:\n",
    "                higgsmass[i] = (best_Zsmall + best_Zbig).mass\n",
    "            else:\n",
    "                higgsmass[i] = np.nan\n",
    "        else:\n",
    "            zmass_small[i] = np.nan\n",
    "            zmass_big[i] = np.nan\n",
    "            higgsmass[i] = np.nan\n",
    "    return zmass_small, zmass_big, higgsmass\n",
    "\n",
    "zmass_small, zmass_big, higgsmass = best_interpretation_per_event(eplus[:100], eminus[:100])"
   ]
  },
  {
   "cell_type": "code",
   "execution_count": null,
   "id": "46b8962f-630f-4bd7-8bea-090fe2828fe1",
   "metadata": {},
   "outputs": [],
   "source": [
    "Hist.new.Regular(60, 0, 120, name=\"zmass_small\").Regular(60, 0, 120, name=\"zmass_big\").Double().fill(\n",
    "    zmass_small=zmass_small,\n",
    "    zmass_big=zmass_big,\n",
    ").plot2d_full();"
   ]
  },
  {
   "cell_type": "code",
   "execution_count": null,
   "id": "abcc712a-6fff-4873-8362-87c893c186dc",
   "metadata": {},
   "outputs": [],
   "source": [
    "Hist.new.Regular(100, 0, 200, name=\"Higgs mass\").Double().fill(\n",
    "    higgsmass\n",
    ").plot();"
   ]
  }
 ],
 "metadata": {
  "kernelspec": {
   "display_name": "Python 3 (ipykernel)",
   "language": "python",
   "name": "python3"
  },
  "language_info": {
   "codemirror_mode": {
    "name": "ipython",
    "version": 3
   },
   "file_extension": ".py",
   "mimetype": "text/x-python",
   "name": "python",
   "nbconvert_exporter": "python",
   "pygments_lexer": "ipython3",
   "version": "3.10.14"
  }
 },
 "nbformat": 4,
 "nbformat_minor": 5
}
