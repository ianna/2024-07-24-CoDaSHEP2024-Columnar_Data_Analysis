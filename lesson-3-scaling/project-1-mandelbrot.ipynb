{
 "cells": [
  {
   "cell_type": "markdown",
   "id": "96f3aeb1-34eb-4cfd-b557-b2e4e7c3072d",
   "metadata": {
    "editable": true,
    "slideshow": {
     "slide_type": ""
    },
    "tags": []
   },
   "source": [
    "# Lesson 4 project 1: Drawing the Mandelbrot set"
   ]
  },
  {
   "cell_type": "code",
   "execution_count": null,
   "id": "6a4a3d0b-46a5-42c7-a3a3-56a8a28299e1",
   "metadata": {},
   "outputs": [],
   "source": [
    "import numpy as np\n",
    "import matplotlib.pyplot as plt"
   ]
  },
  {
   "cell_type": "markdown",
   "id": "738f4981-7529-4cbc-9b79-df8f14080a7c",
   "metadata": {},
   "source": [
    "In this project, you'll draw the Mandelbrot set—a fractal—in imperative, array-oriented, and JIT-compiled ways.\n",
    "\n",
    "The [Mandelbrot set](https://en.wikipedia.org/wiki/Mandelbrot_set) is a set of [complex numbers](https://en.wikipedia.org/wiki/Complex_number) $c$ for which\n",
    "\n",
    "$$z_{i + 1} = |z_i|^2 + c \\mbox{\\hspace{0.5 cm} with } z_0 = 0$$\n",
    "\n",
    "does not diverge to infinity ($z_i \\to \\infty$ as $i \\to \\infty$).\n",
    "\n",
    "To draw this figure, we start with a two-dimensional array representing the plane of complex numbers (real coordinates from $-2$ to $1/2$ and imaginary coordinates from $-1.2$ to $1.2$), which can be produced in NumPy with [np.ogrid](https://numpy.org/doc/stable/reference/generated/numpy.ogrid.html):"
   ]
  },
  {
   "cell_type": "code",
   "execution_count": null,
   "id": "588213e0-1354-4002-a8ac-5c0d38c4a173",
   "metadata": {},
   "outputs": [],
   "source": [
    "height   = 35\n",
    "width    = 70\n",
    "real_min = -2\n",
    "real_max = 0.5\n",
    "imag_min = -1.2\n",
    "imag_max = 1.2\n",
    "\n",
    "# \"j\" multiplies by the imaginary number sqrt(-1) in Python\n",
    "y, x = np.ogrid[imag_min:imag_max:height*1j, real_min:real_max:width*1j]\n",
    "c = x + y*1j\n",
    "\n",
    "# show the four corners\n",
    "c[0, 0], c[0, -1], c[-1, 0], c[-1, -1]"
   ]
  },
  {
   "cell_type": "markdown",
   "id": "dc55816d-646e-4657-9592-e263693182ac",
   "metadata": {},
   "source": [
    "Each element of this array is a different value of $c$. Now we want another variable, $z$, to start at $0$ and iterate\n",
    "\n",
    "```python\n",
    "z = z**2 + c\n",
    "```\n",
    "\n",
    "infinitely many times to see if $z \\to \\infty$. We can't iterate infinitely many times or actually compute infinity, so\n",
    "\n",
    "* if `abs(z) > 2`, then continued iteration would take `z` to infinity (not an approximation, but based on a theorem not shown  here)\n",
    "* if `abs(z)` hasn't exceeded `2` after 20 iterations, we assume that it won't (an approximation that isn't good enough for [lesson-5b-gpu/project-area.ipynb](../lesson-5b-gpu/project-area.ipynb), but good enough for drawing pictures)."
   ]
  },
  {
   "cell_type": "code",
   "execution_count": null,
   "id": "cba9d34c-9e0a-49c8-add7-2d452131d7b3",
   "metadata": {},
   "outputs": [],
   "source": [
    "h = w = 0\n",
    "\n",
    "z = 0\n",
    "for i in range(20):\n",
    "    z = z**2 + c[h, w]\n",
    "    if abs(z) > 2:\n",
    "        print(f\"{c[h, w]} is NOT in the Mandelbrot set\")\n",
    "        break\n",
    "else:\n",
    "    # Python language feature: `for ... else` enters the `else` clause if it does not `break`\n",
    "    print(f\"{c[h, w]} is in the Mandelbrot set\")"
   ]
  },
  {
   "cell_type": "markdown",
   "id": "2579c1c6-b4f5-4cba-aaeb-a68eaecbd6ea",
   "metadata": {},
   "source": [
    "Draw a picture by iterating over all the sampled points in the complex plane."
   ]
  },
  {
   "cell_type": "code",
   "execution_count": null,
   "id": "862d8c04-f552-454f-81c8-7cdd866f5001",
   "metadata": {},
   "outputs": [],
   "source": [
    "picture = np.empty(c.shape, dtype=np.bool_)\n",
    "\n",
    "for h in range(height):\n",
    "    for w in range(width):\n",
    "        z = 0\n",
    "        for i in range(20):\n",
    "            z = z**2 + c[h, w]\n",
    "            if abs(z) > 2:\n",
    "                picture[h, w] = False\n",
    "                break\n",
    "        else:\n",
    "            picture[h, w] = True"
   ]
  },
  {
   "cell_type": "code",
   "execution_count": null,
   "id": "dfa45981-692b-4014-8f40-f517ca64d0b2",
   "metadata": {},
   "outputs": [],
   "source": [
    "for h in range(height):\n",
    "    for w in range(width):\n",
    "        print(\"*\" if picture[h, w] else \" \", end=\"\")\n",
    "    print()"
   ]
  },
  {
   "cell_type": "markdown",
   "id": "abb70dfd-b890-43f1-8fe2-86f0c7eb6809",
   "metadata": {
    "editable": true,
    "slideshow": {
     "slide_type": ""
    },
    "tags": []
   },
   "source": [
    "It's not much different from the first-ever picture of a Mandelbrot set by Robert Brooks and Peter Matelski (45 years ago!),\n",
    "\n",
    "<center>\n",
    "<img src=\"../img/Mandel.png\" width=\"500px\">\n",
    "</center>\n",
    "\n",
    "but not as glamorous as pictures in calendars, which add color by labeling how many iterations were needed to get to `abs(z) > 2`."
   ]
  },
  {
   "cell_type": "code",
   "execution_count": null,
   "id": "c25094ab-3ce2-40bf-9c48-f77d1d78a012",
   "metadata": {},
   "outputs": [],
   "source": [
    "picture = np.empty(c.shape, dtype=np.int64)\n",
    "\n",
    "for h in range(height):\n",
    "    for w in range(width):\n",
    "        z = 0\n",
    "        for i in range(20):\n",
    "            z = z**2 + c[h, w]\n",
    "            if abs(z) > 2:\n",
    "                picture[h, w] = i\n",
    "                break\n",
    "        else:\n",
    "            picture[h, w] = 20  # at least"
   ]
  },
  {
   "cell_type": "code",
   "execution_count": null,
   "id": "2c2492f6-9cd6-4a9f-9810-ee1337138cb7",
   "metadata": {},
   "outputs": [],
   "source": [
    "fig, ax = plt.subplots(1, 1)\n",
    "\n",
    "ax.imshow(picture);\n",
    "ax.set_xlabel(\"index along real axis\");\n",
    "ax.set_ylabel(\"index along imaginary axis\");"
   ]
  },
  {
   "attachments": {},
   "cell_type": "markdown",
   "id": "573787f3-c737-4206-b3f6-4262b1019566",
   "metadata": {},
   "source": [
    "They're also usually in higher resolution, but that will be a problem for us if we keep iterating in Python.\n",
    "\n",
    "Before we get to alternatives, let's wrap the above up as a function, to more easily change the scale."
   ]
  },
  {
   "cell_type": "code",
   "execution_count": null,
   "id": "f8229ac1-db83-476f-b9a6-d2a4b7b61ecd",
   "metadata": {},
   "outputs": [],
   "source": [
    "def run_python(height, width, real_min=-2, real_max=0.5, imag_min=-1.2, imag_max=1.2):\n",
    "    y, x = np.ogrid[imag_min:imag_max:height*1j, real_min:real_max:width*1j]\n",
    "    c = x + y*1j\n",
    "\n",
    "    picture = np.empty(c.shape, dtype=np.int64)\n",
    "\n",
    "    for h in range(height):\n",
    "        for w in range(width):\n",
    "            z = 0\n",
    "            for i in range(20):\n",
    "                z = z**2 + c[h, w]\n",
    "                if abs(z) > 2:\n",
    "                    picture[h, w] = i\n",
    "                    break\n",
    "            else:\n",
    "                picture[h, w] = 20\n",
    "\n",
    "    return picture"
   ]
  },
  {
   "cell_type": "code",
   "execution_count": null,
   "id": "95a1fdc7-419d-45ff-a2f7-16407b30c05e",
   "metadata": {},
   "outputs": [],
   "source": [
    "fig, ax = plt.subplots(1, 1, figsize=(15, 10))\n",
    "\n",
    "ax.imshow(run_python(400, 600));"
   ]
  },
  {
   "cell_type": "markdown",
   "id": "f84a6bed-9424-4d58-a080-23650fbf02ff",
   "metadata": {},
   "source": [
    "Now with twice the resolution..."
   ]
  },
  {
   "cell_type": "code",
   "execution_count": null,
   "id": "0e1772a3-12aa-44e5-9129-cc58c7f689a0",
   "metadata": {},
   "outputs": [],
   "source": [
    "fig, ax = plt.subplots(1, 1, figsize=(15, 10))\n",
    "\n",
    "ax.imshow(run_python(800, 1200));"
   ]
  },
  {
   "cell_type": "markdown",
   "id": "ff0920ca-4700-42ca-9d82-49640620f20a",
   "metadata": {},
   "source": [
    "You probably noticed the lag."
   ]
  },
  {
   "cell_type": "markdown",
   "id": "8cd3dd97-182c-42a1-ae96-f8b0fdfaf936",
   "metadata": {},
   "source": [
    "<br><br><br><br><br>"
   ]
  },
  {
   "cell_type": "markdown",
   "id": "ae48ca4f-6d41-46f3-967c-20af1d521847",
   "metadata": {},
   "source": [
    "## Exercise 1"
   ]
  },
  {
   "cell_type": "markdown",
   "id": "d683be98-2078-4a99-8f13-b9392d39d02d",
   "metadata": {},
   "source": [
    "Accelerate the calculation with NumPy.\n",
    "\n",
    "Notice that the Mandelbrot calculation has an \"iterate until converged\" step, like the special functions we tried to accelerate in the lecture.\n",
    "\n",
    "Note that you can use a slice to determine which array values to assign:"
   ]
  },
  {
   "cell_type": "code",
   "execution_count": null,
   "id": "966ff284-1d88-4577-b7d9-5edf989812ef",
   "metadata": {},
   "outputs": [],
   "source": [
    "array = np.arange(10)\n",
    "array"
   ]
  },
  {
   "cell_type": "code",
   "execution_count": null,
   "id": "d6d33408-1b73-4b60-ab5b-ffb1b7f1ba00",
   "metadata": {},
   "outputs": [],
   "source": [
    "array[array % 2 == 0] = 999"
   ]
  },
  {
   "cell_type": "code",
   "execution_count": null,
   "id": "b384576e-0915-4ae0-8350-0ba1e6c5fabd",
   "metadata": {},
   "outputs": [],
   "source": [
    "array"
   ]
  },
  {
   "cell_type": "markdown",
   "id": "acd77089-c094-4762-b71e-42721ec8ea50",
   "metadata": {},
   "source": [
    "You want to know at which iteration each array element _starts_ to diverge, so be sure to only overwrite array elements if they have not yet been overwritten. How you do that is the key to this exercise."
   ]
  },
  {
   "cell_type": "code",
   "execution_count": null,
   "id": "faac5353-5386-4e40-bab8-e58ebe08fd95",
   "metadata": {},
   "outputs": [],
   "source": [
    "def run_numpy(height, width, real_min=-2, real_max=0.5, imag_min=-1.2, imag_max=1.2):\n",
    "    y, x = np.ogrid[imag_min:imag_max:height*1j, real_min:real_max:width*1j]\n",
    "    c = x + y*1j\n",
    "\n",
    "    z = np.zeros(c.shape, dtype=np.complex128)       # initial values of all elements of z are 0\n",
    "    picture = np.full(c.shape, 20, dtype=np.int64)   # initial values of all pixels are 20\n",
    "\n",
    "    for i in range(20):\n",
    "        ...\n",
    "\n",
    "    return picture"
   ]
  },
  {
   "cell_type": "code",
   "execution_count": null,
   "id": "b4943f60-16d0-498c-889e-f8cbc24e2f37",
   "metadata": {},
   "outputs": [],
   "source": [
    "fig, ax = plt.subplots(1, 1, figsize=(15, 10))\n",
    "\n",
    "with np.errstate(over=\"ignore\", invalid=\"ignore\"):   # ignore warnings about inf and nan values in z\n",
    "    ax.imshow(run_numpy(800, 1200));"
   ]
  },
  {
   "cell_type": "markdown",
   "id": "0ea27af8-7403-4841-95b8-e1e6b1e3bf39",
   "metadata": {},
   "source": [
    "How fast is the NumPy solution, compared with pure Python?\n",
    "\n",
    "Keep in mind that the algorithms are different. The Python algorithm _stops processing_ when `abs(z)` reaches `2`, but the NumPy solution keeps going because it's array-oriented."
   ]
  },
  {
   "cell_type": "code",
   "execution_count": null,
   "id": "6e333c3d-1440-492f-a455-df0b296dd5ff",
   "metadata": {},
   "outputs": [],
   "source": [
    "%%timeit -r1 -n1\n",
    "\n",
    "run_python(800, 1200)"
   ]
  },
  {
   "cell_type": "code",
   "execution_count": null,
   "id": "273d1a75-be3a-476d-8701-e63079470ad6",
   "metadata": {},
   "outputs": [],
   "source": [
    "%%timeit -r1 -n1\n",
    "\n",
    "with np.errstate(over=\"ignore\", invalid=\"ignore\"):\n",
    "    run_numpy(800, 1200)"
   ]
  },
  {
   "cell_type": "markdown",
   "id": "91696306-aa9a-4bb9-8f5a-a28ea234496c",
   "metadata": {},
   "source": [
    "<br><br><br><br><br>"
   ]
  },
  {
   "cell_type": "markdown",
   "id": "56b2ff29-97cc-4bca-ad99-a969f045b4b0",
   "metadata": {},
   "source": [
    "## Exercise 2"
   ]
  },
  {
   "cell_type": "markdown",
   "id": "60e5a360-8841-4582-b207-bc67cc30e620",
   "metadata": {},
   "source": [
    "Now compile the function with Numba. Start with `run_python` and modify it so that Numba can JIT-compile it.\n",
    "\n",
    "At the time that I'm writing this, `np.ogrid` is not in [Numba's list of supported NumPy functions](https://numba.readthedocs.io/en/stable/reference/numpysupported.html), so if you try to include it in the JIT-compiled part, it will raise a compilation error. How can you work around that?\n",
    "\n",
    "See Numba's [JIT-compilation docs](https://numba.readthedocs.io/en/stable/reference/jit-compilation.html) for documentation on `nb.jit` and `nb.vectorize`, and use `nopython=True` to ensure that it doesn't try to use \"object mode\" (which usually only results in more confusing error messages)."
   ]
  },
  {
   "cell_type": "code",
   "execution_count": null,
   "id": "c6051798-ba33-486b-98a2-f2f9dac7e911",
   "metadata": {},
   "outputs": [],
   "source": [
    "import numba as nb"
   ]
  },
  {
   "cell_type": "code",
   "execution_count": null,
   "id": "70e518ad-b047-43dd-b639-03607a8804e9",
   "metadata": {},
   "outputs": [],
   "source": [
    "def run_numba(height, width, real_min=-2, real_max=0.5, imag_min=-1.2, imag_max=1.2):\n",
    "    ..."
   ]
  },
  {
   "cell_type": "code",
   "execution_count": null,
   "id": "38c579e0-6ec4-430c-a8a1-ddab235bedd8",
   "metadata": {},
   "outputs": [],
   "source": [
    "fig, ax = plt.subplots(1, 1, figsize=(15, 10))\n",
    "\n",
    "ax.imshow(run_numba(800, 1200));"
   ]
  },
  {
   "cell_type": "markdown",
   "id": "01383fad-bbb4-4b88-8a94-1b942187e43c",
   "metadata": {},
   "source": [
    "How fast is it?"
   ]
  },
  {
   "cell_type": "code",
   "execution_count": null,
   "id": "42142537-306a-43bd-8cb7-d0031a20679b",
   "metadata": {},
   "outputs": [],
   "source": [
    "%%timeit -r1 -n1\n",
    "\n",
    "run_python(800, 1200)"
   ]
  },
  {
   "cell_type": "code",
   "execution_count": null,
   "id": "06d434c3-afe3-4d12-8804-1b3a8f1a5b13",
   "metadata": {},
   "outputs": [],
   "source": [
    "%%timeit -r1 -n1\n",
    "\n",
    "with np.errstate(over=\"ignore\", invalid=\"ignore\"):\n",
    "    run_numpy(800, 1200)"
   ]
  },
  {
   "cell_type": "code",
   "execution_count": null,
   "id": "4d3ea74f-99b9-48d6-8d35-597b381c9b9a",
   "metadata": {},
   "outputs": [],
   "source": [
    "%%timeit -r1 -n1\n",
    "\n",
    "run_numba(800, 1200)"
   ]
  },
  {
   "cell_type": "markdown",
   "id": "2c4d13f3-909b-4dad-8110-b2fdb52b63e2",
   "metadata": {},
   "source": [
    "<br><br><br><br><br>"
   ]
  },
  {
   "cell_type": "markdown",
   "id": "5af9236b-2128-4e56-9a68-92a8362f1347",
   "metadata": {},
   "source": [
    "## Exercise 3"
   ]
  },
  {
   "cell_type": "markdown",
   "id": "57463fc1-c660-45c7-8516-b56491d1ea0d",
   "metadata": {},
   "source": [
    "Now compile it with JAX. Unlike Numba, which is similar to `run_python`, compilation with JAX is similar to `run_numpy`.\n",
    "\n",
    "Unlike Numba, you can't use functions from the NumPy namespace (`np.*`); you have to use JAX's equivalents in `jax.numpy.*`.\n",
    "\n",
    "JAX has a [jax.numpy.ogrid](https://jax.readthedocs.io/en/latest/_autosummary/jax.numpy.ogrid.html) function, but it can't be used in a JIT-compiled function (because the [shape of the array depends on its arguments](https://jax.readthedocs.io/en/latest/notebooks/Common_Gotchas_in_JAX.html#python-control-flow-jit)), so it has to be outside the compiled part. You can solve this in a similar way as in exercise 2.\n",
    "\n",
    "Another issue is that in-place assignment,\n",
    "\n",
    "```python\n",
    "array[array % 2 == 0] = 999\n",
    "```\n",
    "\n",
    "won't work. ([JAX arrays are immutable](https://jax.readthedocs.io/en/latest/notebooks/Common_Gotchas_in_JAX.html#in-place-updates).) However, JAX provides a [jax.numpy.where](https://jax.readthedocs.io/en/latest/_autosummary/jax.numpy.where.html) function that lets you do the above as\n",
    "\n",
    "```python\n",
    "#                          condition    if_true  if_false\n",
    "array = jax.numpy.where(array % 2 == 0,   999,    array  )\n",
    "```"
   ]
  },
  {
   "cell_type": "code",
   "execution_count": null,
   "id": "128e2d86-1d86-4107-ba28-9f176e774a51",
   "metadata": {},
   "outputs": [],
   "source": [
    "import jax\n",
    "\n",
    "# https://jax.readthedocs.io/en/latest/notebooks/Common_Gotchas_in_JAX.html#double-64bit-precision\n",
    "from jax import config\n",
    "jax.config.update(\"jax_platform_name\", \"cpu\")\n",
    "jax.config.update(\"jax_enable_x64\", True)"
   ]
  },
  {
   "cell_type": "code",
   "execution_count": null,
   "id": "c821dcb7-e495-4ca3-8dd0-af92501f3d6a",
   "metadata": {},
   "outputs": [],
   "source": [
    "def run_jax(height, width, real_min=-2, real_max=0.5, imag_min=-1.2, imag_max=1.2):\n",
    "    ..."
   ]
  },
  {
   "cell_type": "code",
   "execution_count": null,
   "id": "60b6afd9-f6ca-40c1-ba28-344597611a75",
   "metadata": {},
   "outputs": [],
   "source": [
    "fig, ax = plt.subplots(1, 1, figsize=(15, 10))\n",
    "\n",
    "ax.imshow(run_jax(800, 1200));"
   ]
  },
  {
   "cell_type": "markdown",
   "id": "a7dcfeaf-63a7-419e-886b-dd46112b5f34",
   "metadata": {},
   "source": [
    "How fast is it?"
   ]
  },
  {
   "cell_type": "code",
   "execution_count": null,
   "id": "909a2f55-5552-4d3e-95fb-00660c9e4018",
   "metadata": {},
   "outputs": [],
   "source": [
    "%%timeit -r1 -n1\n",
    "\n",
    "run_python(800, 1200)"
   ]
  },
  {
   "cell_type": "code",
   "execution_count": null,
   "id": "a4f00e66-a06a-47f5-aae3-2a8e7a7edc2c",
   "metadata": {},
   "outputs": [],
   "source": [
    "%%timeit -r1 -n1\n",
    "\n",
    "with np.errstate(over=\"ignore\", invalid=\"ignore\"):\n",
    "    run_numpy(800, 1200)"
   ]
  },
  {
   "cell_type": "code",
   "execution_count": null,
   "id": "461afcd2-19eb-4f1a-aac6-6fdc2042b689",
   "metadata": {},
   "outputs": [],
   "source": [
    "%%timeit -r1 -n1\n",
    "\n",
    "run_numba(800, 1200)"
   ]
  },
  {
   "cell_type": "code",
   "execution_count": null,
   "id": "17c47f26-56e6-47fb-bca9-06df5c4388dc",
   "metadata": {},
   "outputs": [],
   "source": [
    "%%timeit -r1 -n1\n",
    "\n",
    "run_jax(800, 1200)"
   ]
  },
  {
   "cell_type": "markdown",
   "id": "7a2c3127-8a44-41d9-ae66-c82b19c0b639",
   "metadata": {},
   "source": [
    "Note: it's hard to get JAX to use only one thread or use the CPU when a GPU is available. This is good if you want speed at all costs, but it's bad if you're trying to discover _why_ JAX is faster. If JAX is using all CPU cores while Numba is only using one, it would be more fair to compare against [Numba with parallel processing](https://numba.readthedocs.io/en/stable/user/parallel.html). Similarly with 32-bit types and mathematical approximations (`fastmath=True`)."
   ]
  },
  {
   "cell_type": "markdown",
   "id": "733f89c0-0f1c-4b77-a55c-00dd2f21c62f",
   "metadata": {},
   "source": [
    "<br><br><br><br><br>"
   ]
  },
  {
   "cell_type": "markdown",
   "id": "946c9cd7-17c8-4870-8861-f93f7bda4164",
   "metadata": {},
   "source": [
    "When you're done with this exercise, see [Mandelbrot on all accelerators](https://colab.research.google.com/drive/1J0l5e0NZm5kEm5BEUDG4neN5EN0VVCnt#scrollTo=JMJx2GOjtdyz) (which has spoilers/solutions to the above) and a [discussion about it with the JAX developers](https://colab.research.google.com/drive/google/jax#11078) for a deep-dive into accelerated Python."
   ]
  },
  {
   "cell_type": "markdown",
   "id": "295a5db5-ee86-4d69-8806-bcfde9efde93",
   "metadata": {},
   "source": [
    "<br><br><br><br><br>"
   ]
  },
  {
   "cell_type": "markdown",
   "id": "7faf52d1-9a75-48d2-b7c5-670cd3d56636",
   "metadata": {},
   "source": [
    "Also, try using your fastest implementation to zoom in on the fine structure. Wheee!"
   ]
  },
  {
   "cell_type": "markdown",
   "id": "61f27158-289c-4100-8f53-4281a388c9d5",
   "metadata": {},
   "source": [
    "<center>\n",
    "<img src=\"../img/Mandelbrot_sequence_new.gif\">\n",
    "</center>"
   ]
  }
 ],
 "metadata": {
  "kernelspec": {
   "display_name": "Python 3 (ipykernel)",
   "language": "python",
   "name": "python3"
  },
  "language_info": {
   "codemirror_mode": {
    "name": "ipython",
    "version": 3
   },
   "file_extension": ".py",
   "mimetype": "text/x-python",
   "name": "python",
   "nbconvert_exporter": "python",
   "pygments_lexer": "ipython3",
   "version": "3.10.14"
  }
 },
 "nbformat": 4,
 "nbformat_minor": 5
}
